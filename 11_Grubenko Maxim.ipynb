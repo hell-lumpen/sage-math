{
 "cells": [
  {
   "cell_type": "markdown",
   "metadata": {},
   "source": [
    "# Лабораторная работа 11\n",
    "# Линейный оператор и базисы\n",
    "\n",
    "Линейный оператор A задан в канон. базисе матрицей.\n",
    "1. Решить хар. ур-е методом Кардано. Сделать проверку.\n",
    "2. Собственные числа, собственные вектора в каноническом базисе.\n",
    "3. Найти собственный вектор в базисе: <br>\n",
    "( <br>\n",
    "(1, 1, 0), <br>\n",
    "(1, -1, 1), <br>\n",
    "(0, 1, -1), <br>\n",
    ") <br>\n",
    "4. Написать жорданову форму.\n",
    "5. Найти матрицу перехода из канон. базиса в жорданов.\n",
    "6. Вычислить A<sup>−1</sup>\n",
    ", A<sup>3</sup>\n",
    ". По т. Кэли-Гамильтона выполнить проверку.\n",
    "\n",
    "<br><center>Грубенко Максим (группа: М8О-210Б-20)<br>Вариант 7</center>"
   ]
  },
  {
   "cell_type": "code",
   "execution_count": 1,
   "metadata": {},
   "outputs": [
    {
     "data": {
      "text/html": [
       "<html><script type=\"math/tex; mode=display\">\\newcommand{\\Bold}[1]{\\mathbf{#1}}A = \\left(\\begin{array}{rrr}\n",
       "2 & 0 & -1 \\\\\n",
       "1 & 1 & -1 \\\\\n",
       "-1 & 0 & 2\n",
       "\\end{array}\\right)</script></html>"
      ],
      "text/latex": [
       "\\begin{math}\n",
       "\\newcommand{\\Bold}[1]{\\mathbf{#1}}A = \\left(\\begin{array}{rrr}\n",
       "2 & 0 & -1 \\\\\n",
       "1 & 1 & -1 \\\\\n",
       "-1 & 0 & 2\n",
       "\\end{array}\\right)\n",
       "\\end{math}"
      ],
      "text/plain": [
       "A = \\left(\\begin{array}{rrr}\n",
       "2 & 0 & -1 \\\\\n",
       "1 & 1 & -1 \\\\\n",
       "-1 & 0 & 2\n",
       "\\end{array}\\right)"
      ]
     },
     "metadata": {},
     "output_type": "display_data"
    },
    {
     "data": {
      "text/html": [
       "<html><script type=\"math/tex; mode=display\">\\newcommand{\\Bold}[1]{\\mathbf{#1}}\\phi_A = x^{3} - 5 x^{2} + 7 x - 3</script></html>"
      ],
      "text/latex": [
       "\\begin{math}\n",
       "\\newcommand{\\Bold}[1]{\\mathbf{#1}}\\phi_A = x^{3} - 5 x^{2} + 7 x - 3\n",
       "\\end{math}"
      ],
      "text/plain": [
       "\\phi_A = x^{3} - 5 x^{2} + 7 x - 3"
      ]
     },
     "metadata": {},
     "output_type": "display_data"
    }
   ],
   "source": [
    "import copy as cp\n",
    "\n",
    "A = Matrix([[2, 0, -1], [1, 1, -1], [-1, 0, 2]])\n",
    "B = Matrix([[0], [0], [0]])\n",
    "\n",
    "show(LatexExpr(f\"A = {latex(A)}\"))\n",
    "\n",
    "R.<x> = QQ[]\n",
    "phi_A = det(A - x*identity_matrix(3)).monic()\n",
    "show(LatexExpr(f\"\\\\phi_A = {latex(phi_A)}\"))"
   ]
  },
  {
   "cell_type": "code",
   "execution_count": 2,
   "metadata": {},
   "outputs": [],
   "source": [
    "# метод Кардано для поиска собственных чисел\n",
    "x, a, b, c, d = var(\"x\", \"a\", \"b\", \"c\", \"d\")\n",
    "a = 1\n",
    "b = -5\n",
    "c = 7\n",
    "d = -3\n",
    "y = a*x**3 + b*x**2 + c*x + d;\n",
    "var(\"p\", \"q\")\n",
    "\n",
    "p = (3*a*c - b**2)/(3*a**2)\n",
    "q = ((2*b**3)/(27*a**3)) - ((b*c)/(3*a**2))+ (d/a)\n",
    "Q = ((p/3)**3) + ((q/2)**2)\n",
    "\n",
    "alpha = ((-q/2) + sqrt(Q))**(1/3)\n",
    "beta = ((-q/2) - sqrt(Q))**(1/3)\n",
    "epsilon = -1/2 + (sqrt(-3))/2\n",
    "\n",
    "res = [alpha + beta\n",
    "      , alpha*epsilon + beta*epsilon**2\n",
    "      , beta*epsilon + alpha*epsilon**2\n",
    "      ]\n",
    "\n",
    "def to_x(_z, _a):\n",
    "    return _z - _a/3"
   ]
  },
  {
   "cell_type": "code",
   "execution_count": 3,
   "metadata": {},
   "outputs": [
    {
     "data": {
      "text/html": [
       "Собственные числа:"
      ],
      "text/plain": [
       "Собственные числа:"
      ]
     },
     "metadata": {},
     "output_type": "display_data"
    },
    {
     "data": {
      "text/html": [
       "<html><script type=\"math/tex; mode=display\">\\newcommand{\\Bold}[1]{\\mathbf{#1}}\\lambda_0 = 3.000</script></html>"
      ],
      "text/latex": [
       "\\begin{math}\n",
       "\\newcommand{\\Bold}[1]{\\mathbf{#1}}\\lambda_0 = 3.000\n",
       "\\end{math}"
      ],
      "text/plain": [
       "\\lambda_0 = 3.000"
      ]
     },
     "metadata": {},
     "output_type": "display_data"
    },
    {
     "data": {
      "text/html": [
       "<html><script type=\"math/tex; mode=display\">\\newcommand{\\Bold}[1]{\\mathbf{#1}}\\left(\\begin{array}{rrr}\n",
       "1.000 & -0.0000 & 1.000 \\\\\n",
       "0.0000 & 1.000 & 1.000 \\\\\n",
       "0.0000 & 0.0000 & 0.0000\n",
       "\\end{array}\\right)</script></html>"
      ],
      "text/latex": [
       "\\begin{math}\n",
       "\\newcommand{\\Bold}[1]{\\mathbf{#1}}\\left(\\begin{array}{rrr}\n",
       "1.000 & -0.0000 & 1.000 \\\\\n",
       "0.0000 & 1.000 & 1.000 \\\\\n",
       "0.0000 & 0.0000 & 0.0000\n",
       "\\end{array}\\right)\n",
       "\\end{math}"
      ],
      "text/plain": [
       "[  1.000 -0.0000   1.000]\n",
       "[ 0.0000   1.000   1.000]\n",
       "[ 0.0000  0.0000  0.0000]"
      ]
     },
     "metadata": {},
     "output_type": "display_data"
    },
    {
     "data": {
      "text/html": [
       "Система не имеет решения. Определитель равен 0"
      ],
      "text/plain": [
       "Система не имеет решения. Определитель равен 0"
      ]
     },
     "metadata": {},
     "output_type": "display_data"
    },
    {
     "data": {
      "text/html": [
       "<html><script type=\"math/tex; mode=display\">\\newcommand{\\Bold}[1]{\\mathbf{#1}}\\lambda_1 = 1.000</script></html>"
      ],
      "text/latex": [
       "\\begin{math}\n",
       "\\newcommand{\\Bold}[1]{\\mathbf{#1}}\\lambda_1 = 1.000\n",
       "\\end{math}"
      ],
      "text/plain": [
       "\\lambda_1 = 1.000"
      ]
     },
     "metadata": {},
     "output_type": "display_data"
    },
    {
     "data": {
      "text/html": [
       "<html><script type=\"math/tex; mode=display\">\\newcommand{\\Bold}[1]{\\mathbf{#1}}\\left(\\begin{array}{rrr}\n",
       "1.000 & 0.0000 & -1.000 \\\\\n",
       "0.0000 & 0.0000 & 0.0000 \\\\\n",
       "0.0000 & 0.0000 & 0.0000\n",
       "\\end{array}\\right)</script></html>"
      ],
      "text/latex": [
       "\\begin{math}\n",
       "\\newcommand{\\Bold}[1]{\\mathbf{#1}}\\left(\\begin{array}{rrr}\n",
       "1.000 & 0.0000 & -1.000 \\\\\n",
       "0.0000 & 0.0000 & 0.0000 \\\\\n",
       "0.0000 & 0.0000 & 0.0000\n",
       "\\end{array}\\right)\n",
       "\\end{math}"
      ],
      "text/plain": [
       "[ 1.000 0.0000 -1.000]\n",
       "[0.0000 0.0000 0.0000]\n",
       "[0.0000 0.0000 0.0000]"
      ]
     },
     "metadata": {},
     "output_type": "display_data"
    },
    {
     "data": {
      "text/html": [
       "Система не имеет решения. Определитель равен 0"
      ],
      "text/plain": [
       "Система не имеет решения. Определитель равен 0"
      ]
     },
     "metadata": {},
     "output_type": "display_data"
    },
    {
     "data": {
      "text/html": [
       "<html><script type=\"math/tex; mode=display\">\\newcommand{\\Bold}[1]{\\mathbf{#1}}\\lambda_2 = 1.000</script></html>"
      ],
      "text/latex": [
       "\\begin{math}\n",
       "\\newcommand{\\Bold}[1]{\\mathbf{#1}}\\lambda_2 = 1.000\n",
       "\\end{math}"
      ],
      "text/plain": [
       "\\lambda_2 = 1.000"
      ]
     },
     "metadata": {},
     "output_type": "display_data"
    },
    {
     "data": {
      "text/html": [
       "<html><script type=\"math/tex; mode=display\">\\newcommand{\\Bold}[1]{\\mathbf{#1}}\\left(\\begin{array}{rrr}\n",
       "1.000 & 0.0000 & -1.000 \\\\\n",
       "0.0000 & 0.0000 & 0.0000 \\\\\n",
       "0.0000 & 0.0000 & 0.0000\n",
       "\\end{array}\\right)</script></html>"
      ],
      "text/latex": [
       "\\begin{math}\n",
       "\\newcommand{\\Bold}[1]{\\mathbf{#1}}\\left(\\begin{array}{rrr}\n",
       "1.000 & 0.0000 & -1.000 \\\\\n",
       "0.0000 & 0.0000 & 0.0000 \\\\\n",
       "0.0000 & 0.0000 & 0.0000\n",
       "\\end{array}\\right)\n",
       "\\end{math}"
      ],
      "text/plain": [
       "[ 1.000 0.0000 -1.000]\n",
       "[0.0000 0.0000 0.0000]\n",
       "[0.0000 0.0000 0.0000]"
      ]
     },
     "metadata": {},
     "output_type": "display_data"
    },
    {
     "data": {
      "text/html": [
       "Система не имеет решения. Определитель равен 0"
      ],
      "text/plain": [
       "Система не имеет решения. Определитель равен 0"
      ]
     },
     "metadata": {},
     "output_type": "display_data"
    }
   ],
   "source": [
    "show(html(\"Собственные числа:\"))\n",
    "\n",
    "for i, z_i in enumerate(res):\n",
    "    x_i = to_x(_z = z_i, _a = b/a)\n",
    "    show(LatexExpr(f\"\\\\lambda_{latex(i)} = {latex(x_i.n(digits=4).real())}\"))\n",
    "    mat = A - identity_matrix(3) * x_i.n(digits=4).real()\n",
    "    show(mat.echelon_form())\n",
    "    if mat.det():\n",
    "        for obj in mat:\n",
    "            new_matrix = cp.copy(mat)\n",
    "            new_matrix[:, i] = B\n",
    "            x = new_matrix.det() / mat.det()\n",
    "            show(\"x\",i,\" = \", x)\n",
    "    else:\n",
    "        show(html(\"Система не имеет решения. Определитель равен 0\"))"
   ]
  },
  {
   "cell_type": "code",
   "execution_count": 4,
   "metadata": {},
   "outputs": [
    {
     "data": {
      "text/html": [
       "<html><script type=\"math/tex; mode=display\">\\newcommand{\\Bold}[1]{\\mathbf{#1}}\\left(\\begin{array}{r}\n",
       "1 \\\\\n",
       "1 \\\\\n",
       "-1\n",
       "\\end{array}\\right)</script></html>"
      ],
      "text/latex": [
       "\\begin{math}\n",
       "\\newcommand{\\Bold}[1]{\\mathbf{#1}}\\left(\\begin{array}{r}\n",
       "1 \\\\\n",
       "1 \\\\\n",
       "-1\n",
       "\\end{array}\\right)\n",
       "\\end{math}"
      ],
      "text/plain": [
       "[ 1]\n",
       "[ 1]\n",
       "[-1]"
      ]
     },
     "metadata": {},
     "output_type": "display_data"
    },
    {
     "data": {
      "text/html": [
       "<html><script type=\"math/tex; mode=display\">\\newcommand{\\Bold}[1]{\\mathbf{#1}}\\left(\\begin{array}{r}\n",
       "1 \\\\\n",
       "0 \\\\\n",
       "1\n",
       "\\end{array}\\right)</script></html>"
      ],
      "text/latex": [
       "\\begin{math}\n",
       "\\newcommand{\\Bold}[1]{\\mathbf{#1}}\\left(\\begin{array}{r}\n",
       "1 \\\\\n",
       "0 \\\\\n",
       "1\n",
       "\\end{array}\\right)\n",
       "\\end{math}"
      ],
      "text/plain": [
       "[1]\n",
       "[0]\n",
       "[1]"
      ]
     },
     "metadata": {},
     "output_type": "display_data"
    },
    {
     "data": {
      "text/html": [
       "<html><script type=\"math/tex; mode=display\">\\newcommand{\\Bold}[1]{\\mathbf{#1}}\\left(\\begin{array}{rrr}\n",
       "1 & 1 & -1\n",
       "\\end{array}\\right)</script></html>"
      ],
      "text/latex": [
       "\\begin{math}\n",
       "\\newcommand{\\Bold}[1]{\\mathbf{#1}}\\left(\\begin{array}{rrr}\n",
       "1 & 1 & -1\n",
       "\\end{array}\\right)\n",
       "\\end{math}"
      ],
      "text/plain": [
       "[ 1  1 -1]"
      ]
     },
     "metadata": {},
     "output_type": "display_data"
    },
    {
     "data": {
      "text/html": [
       "<html><script type=\"math/tex; mode=display\">\\newcommand{\\Bold}[1]{\\mathbf{#1}}\\left(\\begin{array}{rrr}\n",
       "1 & 0 & 1\n",
       "\\end{array}\\right)</script></html>"
      ],
      "text/latex": [
       "\\begin{math}\n",
       "\\newcommand{\\Bold}[1]{\\mathbf{#1}}\\left(\\begin{array}{rrr}\n",
       "1 & 0 & 1\n",
       "\\end{array}\\right)\n",
       "\\end{math}"
      ],
      "text/plain": [
       "[1 0 1]"
      ]
     },
     "metadata": {},
     "output_type": "display_data"
    }
   ],
   "source": [
    "# Из вида матриц следует что при lambda = 3\n",
    "# x = -z, y = -z => x = y = -z\n",
    "v1 = Matrix(QQ, [1, 1, -1])\n",
    "# Из вида матриц следует что при lambda = 1\n",
    "# x = z\n",
    "v2 = Matrix(QQ, [1, 0, 1])\n",
    "\n",
    "show(v1.transpose())\n",
    "show(v2.transpose())\n",
    "\n",
    "eigen_right = A.eigenvectors_right()\n",
    "show(Matrix(eigen_right[0][1]))\n",
    "show(Matrix(eigen_right[1][1][0]))\n",
    "if Matrix(eigen_right[0][1]) == v1 and Matrix(eigen_right[1][1][0] == v2):\n",
    "    show(\"ok\")"
   ]
  },
  {
   "cell_type": "markdown",
   "metadata": {},
   "source": [
    "### Переход в другой базис"
   ]
  },
  {
   "cell_type": "code",
   "execution_count": 5,
   "metadata": {},
   "outputs": [
    {
     "data": {
      "text/html": [
       "<html><script type=\"math/tex; mode=display\">\\newcommand{\\Bold}[1]{\\mathbf{#1}}\\left(\\begin{array}{r}\n",
       "1 \\\\\n",
       "1 \\\\\n",
       "-1\n",
       "\\end{array}\\right) => \\left(\\begin{array}{r}\n",
       "0 \\\\\n",
       "1 \\\\\n",
       "2\n",
       "\\end{array}\\right)</script></html>"
      ],
      "text/latex": [
       "\\begin{math}\n",
       "\\newcommand{\\Bold}[1]{\\mathbf{#1}}\\left(\\begin{array}{r}\n",
       "1 \\\\\n",
       "1 \\\\\n",
       "-1\n",
       "\\end{array}\\right) => \\left(\\begin{array}{r}\n",
       "0 \\\\\n",
       "1 \\\\\n",
       "2\n",
       "\\end{array}\\right)\n",
       "\\end{math}"
      ],
      "text/plain": [
       "\\left(\\begin{array}{r}\n",
       "1 \\\\\n",
       "1 \\\\\n",
       "-1\n",
       "\\end{array}\\right) => \\left(\\begin{array}{r}\n",
       "0 \\\\\n",
       "1 \\\\\n",
       "2\n",
       "\\end{array}\\right)"
      ]
     },
     "metadata": {},
     "output_type": "display_data"
    },
    {
     "data": {
      "text/html": [
       "<html><script type=\"math/tex; mode=display\">\\newcommand{\\Bold}[1]{\\mathbf{#1}}\\left(\\begin{array}{r}\n",
       "1 \\\\\n",
       "0 \\\\\n",
       "1\n",
       "\\end{array}\\right) => \\left(\\begin{array}{r}\n",
       "1 \\\\\n",
       "0 \\\\\n",
       "-1\n",
       "\\end{array}\\right)</script></html>"
      ],
      "text/latex": [
       "\\begin{math}\n",
       "\\newcommand{\\Bold}[1]{\\mathbf{#1}}\\left(\\begin{array}{r}\n",
       "1 \\\\\n",
       "0 \\\\\n",
       "1\n",
       "\\end{array}\\right) => \\left(\\begin{array}{r}\n",
       "1 \\\\\n",
       "0 \\\\\n",
       "-1\n",
       "\\end{array}\\right)\n",
       "\\end{math}"
      ],
      "text/plain": [
       "\\left(\\begin{array}{r}\n",
       "1 \\\\\n",
       "0 \\\\\n",
       "1\n",
       "\\end{array}\\right) => \\left(\\begin{array}{r}\n",
       "1 \\\\\n",
       "0 \\\\\n",
       "-1\n",
       "\\end{array}\\right)"
      ]
     },
     "metadata": {},
     "output_type": "display_data"
    }
   ],
   "source": [
    "new_basis = Matrix([[1, 1, 0], [1, -1, 1], [0, 1, -1]])\n",
    "\n",
    "v1_new = new_basis.inverse() * v1.transpose()\n",
    "show(LatexExpr(f\"{latex(v1.transpose())} => {latex(v1_new)}\"))\n",
    "\n",
    "v2_new = new_basis.inverse() * v2.transpose()\n",
    "show(LatexExpr(f\"{latex(v2.transpose())} => {latex(v2_new)}\"))"
   ]
  },
  {
   "cell_type": "markdown",
   "metadata": {},
   "source": [
    "### Жорданова  форма"
   ]
  },
  {
   "cell_type": "code",
   "execution_count": 6,
   "metadata": {},
   "outputs": [
    {
     "data": {
      "text/html": [
       "Жорданова форма"
      ],
      "text/plain": [
       "Жорданова форма"
      ]
     },
     "metadata": {},
     "output_type": "display_data"
    },
    {
     "data": {
      "text/html": [
       "<html><script type=\"math/tex; mode=display\">\\newcommand{\\Bold}[1]{\\mathbf{#1}}J = \\left(\\begin{array}{rrr}\n",
       "1 & 0 & 0 \\\\\n",
       "0 & 1 & 0 \\\\\n",
       "0 & 0 & 3\n",
       "\\end{array}\\right)</script></html>"
      ],
      "text/latex": [
       "\\begin{math}\n",
       "\\newcommand{\\Bold}[1]{\\mathbf{#1}}J = \\left(\\begin{array}{rrr}\n",
       "1 & 0 & 0 \\\\\n",
       "0 & 1 & 0 \\\\\n",
       "0 & 0 & 3\n",
       "\\end{array}\\right)\n",
       "\\end{math}"
      ],
      "text/plain": [
       "J = \\left(\\begin{array}{rrr}\n",
       "1 & 0 & 0 \\\\\n",
       "0 & 1 & 0 \\\\\n",
       "0 & 0 & 3\n",
       "\\end{array}\\right)"
      ]
     },
     "metadata": {},
     "output_type": "display_data"
    }
   ],
   "source": [
    "S = Matrix([[0,1,0],[1,0,1],[1,1,-1]])\n",
    "S = S.transpose()\n",
    "\n",
    "A = Matrix([[2,0,-1],[1,1,-1],[-1,0,2]])\n",
    "J = S.inverse() * A * S\n",
    "show(html(\"Жорданова форма\"))\n",
    "show(LatexExpr(f\"J = {latex(S.inverse() * A * S)}\"))"
   ]
  },
  {
   "cell_type": "markdown",
   "metadata": {},
   "source": [
    "### Нахождение матрицы перехода в Жорданов базис"
   ]
  },
  {
   "cell_type": "code",
   "execution_count": 7,
   "metadata": {},
   "outputs": [
    {
     "data": {
      "text/html": [
       "Матрица перехода к жордановой форме"
      ],
      "text/plain": [
       "Матрица перехода к жордановой форме"
      ]
     },
     "metadata": {},
     "output_type": "display_data"
    },
    {
     "data": {
      "text/html": [
       "<html><script type=\"math/tex; mode=display\">\\newcommand{\\Bold}[1]{\\mathbf{#1}}M = \\left(\\begin{array}{rrr}\n",
       "2 & 0 & -\\frac{1}{3} \\\\\n",
       "1 & 1 & -\\frac{1}{3} \\\\\n",
       "-1 & 0 & \\frac{2}{3}\n",
       "\\end{array}\\right)</script></html>"
      ],
      "text/latex": [
       "\\begin{math}\n",
       "\\newcommand{\\Bold}[1]{\\mathbf{#1}}M = \\left(\\begin{array}{rrr}\n",
       "2 & 0 & -\\frac{1}{3} \\\\\n",
       "1 & 1 & -\\frac{1}{3} \\\\\n",
       "-1 & 0 & \\frac{2}{3}\n",
       "\\end{array}\\right)\n",
       "\\end{math}"
      ],
      "text/plain": [
       "M = \\left(\\begin{array}{rrr}\n",
       "2 & 0 & -\\frac{1}{3} \\\\\n",
       "1 & 1 & -\\frac{1}{3} \\\\\n",
       "-1 & 0 & \\frac{2}{3}\n",
       "\\end{array}\\right)"
      ]
     },
     "metadata": {},
     "output_type": "display_data"
    },
    {
     "data": {
      "text/html": [
       "<html><script type=\"math/tex; mode=display\">\\newcommand{\\Bold}[1]{\\mathbf{#1}}\\left(\\begin{array}{rrr}\n",
       "1 & 0 & 0 \\\\\n",
       "0 & 1 & 0 \\\\\n",
       "0 & 0 & 3\n",
       "\\end{array}\\right)</script></html>"
      ],
      "text/latex": [
       "\\begin{math}\n",
       "\\newcommand{\\Bold}[1]{\\mathbf{#1}}\\left(\\begin{array}{rrr}\n",
       "1 & 0 & 0 \\\\\n",
       "0 & 1 & 0 \\\\\n",
       "0 & 0 & 3\n",
       "\\end{array}\\right)\n",
       "\\end{math}"
      ],
      "text/plain": [
       "[1 0 0]\n",
       "[0 1 0]\n",
       "[0 0 3]"
      ]
     },
     "metadata": {},
     "output_type": "display_data"
    }
   ],
   "source": [
    "M = (J * A.inverse()).inverse()\n",
    "show(html(\"Матрица перехода к жордановой форме\"))\n",
    "show(LatexExpr(f\"M = {latex(M)}\"))\n",
    "show(M.inverse() * A)"
   ]
  },
  {
   "cell_type": "markdown",
   "metadata": {},
   "source": [
    "### Вычислить A<sup>−1</sup>, A<sup>3</sup>. По т. Кэли-Гамильтона выполнить проверку."
   ]
  },
  {
   "cell_type": "code",
   "execution_count": 8,
   "metadata": {},
   "outputs": [
    {
     "data": {
      "text/html": [
       "<html><script type=\"math/tex; mode=display\">\\newcommand{\\Bold}[1]{\\mathbf{#1}}A = x^3 - 5*x^2 + 7*x - 3</script></html>"
      ],
      "text/latex": [
       "\\begin{math}\n",
       "\\newcommand{\\Bold}[1]{\\mathbf{#1}}A = x^3 - 5*x^2 + 7*x - 3\n",
       "\\end{math}"
      ],
      "text/plain": [
       "A = x^3 - 5*x^2 + 7*x - 3"
      ]
     },
     "metadata": {},
     "output_type": "display_data"
    },
    {
     "data": {
      "text/html": [
       "<html><script type=\"math/tex; mode=display\">\\newcommand{\\Bold}[1]{\\mathbf{#1}}A^3 = \\left(\\begin{array}{rrr}\n",
       "14 & 0 & -13 \\\\\n",
       "13 & 1 & -13 \\\\\n",
       "-13 & 0 & 14\n",
       "\\end{array}\\right)</script></html>"
      ],
      "text/latex": [
       "\\begin{math}\n",
       "\\newcommand{\\Bold}[1]{\\mathbf{#1}}A^3 = \\left(\\begin{array}{rrr}\n",
       "14 & 0 & -13 \\\\\n",
       "13 & 1 & -13 \\\\\n",
       "-13 & 0 & 14\n",
       "\\end{array}\\right)\n",
       "\\end{math}"
      ],
      "text/plain": [
       "A^3 = \\left(\\begin{array}{rrr}\n",
       "14 & 0 & -13 \\\\\n",
       "13 & 1 & -13 \\\\\n",
       "-13 & 0 & 14\n",
       "\\end{array}\\right)"
      ]
     },
     "metadata": {},
     "output_type": "display_data"
    },
    {
     "data": {
      "text/html": [
       "Результаты совпадают"
      ],
      "text/plain": [
       "Результаты совпадают"
      ]
     },
     "metadata": {},
     "output_type": "display_data"
    },
    {
     "data": {
      "text/html": [
       "<html><script type=\"math/tex; mode=display\">\\newcommand{\\Bold}[1]{\\mathbf{#1}}A^-1 = \\left(\\begin{array}{rrr}\n",
       "\\frac{2}{3} & 0 & \\frac{1}{3} \\\\\n",
       "-\\frac{1}{3} & 1 & \\frac{1}{3} \\\\\n",
       "\\frac{1}{3} & 0 & \\frac{2}{3}\n",
       "\\end{array}\\right)</script></html>"
      ],
      "text/latex": [
       "\\begin{math}\n",
       "\\newcommand{\\Bold}[1]{\\mathbf{#1}}A^-1 = \\left(\\begin{array}{rrr}\n",
       "\\frac{2}{3} & 0 & \\frac{1}{3} \\\\\n",
       "-\\frac{1}{3} & 1 & \\frac{1}{3} \\\\\n",
       "\\frac{1}{3} & 0 & \\frac{2}{3}\n",
       "\\end{array}\\right)\n",
       "\\end{math}"
      ],
      "text/plain": [
       "A^-1 = \\left(\\begin{array}{rrr}\n",
       "\\frac{2}{3} & 0 & \\frac{1}{3} \\\\\n",
       "-\\frac{1}{3} & 1 & \\frac{1}{3} \\\\\n",
       "\\frac{1}{3} & 0 & \\frac{2}{3}\n",
       "\\end{array}\\right)"
      ]
     },
     "metadata": {},
     "output_type": "display_data"
    },
    {
     "data": {
      "text/html": [
       "Результаты совпадают"
      ],
      "text/plain": [
       "Результаты совпадают"
      ]
     },
     "metadata": {},
     "output_type": "display_data"
    }
   ],
   "source": [
    "show(LatexExpr(f\"A = {phi_A}\"))\n",
    "coefficients_ = phi_A.coefficients()\n",
    "for i in range(4):\n",
    "    coefficients_[i] = coefficients_[i] * -1\n",
    "    \n",
    "A1 = (coefficients_[3]*A**2 + coefficients_[2]*A + coefficients_[1]*identity_matrix(3))/-coefficients_[0]\n",
    "A3 = coefficients_[2]*A*A + coefficients_[1]*A + coefficients_[0]\n",
    "\n",
    "if (A3 == A**3):\n",
    "    show(LatexExpr(f\"A^3 = {latex(coefficients_[2]*A*A + coefficients_[1]*A + coefficients_[0])}\"))\n",
    "    show(html(\"Результаты совпадают\"))\n",
    "    \n",
    "if (A1 == A**-1):\n",
    "    show(LatexExpr(f\"A^-1 = {latex((coefficients_[3]*A**2 + coefficients_[2]*A + coefficients_[1]*identity_matrix(3))/-coefficients_[0])}\"))\n",
    "    show(html(\"Результаты совпадают\"))"
   ]
  }
 ],
 "metadata": {
  "kernelspec": {
   "display_name": "SageMath 9.2",
   "language": "sage",
   "name": "sagemath"
  },
  "language_info": {
   "codemirror_mode": {
    "name": "ipython",
    "version": 3
   },
   "file_extension": ".py",
   "mimetype": "text/x-python",
   "name": "python",
   "nbconvert_exporter": "python",
   "pygments_lexer": "ipython3",
   "version": "3.7.7"
  }
 },
 "nbformat": 4,
 "nbformat_minor": 4
}
