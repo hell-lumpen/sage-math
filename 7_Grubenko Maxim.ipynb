{
 "cells": [
  {
   "cell_type": "markdown",
   "metadata": {},
   "source": [
    "# Лабораторная работа 7\n",
    "# Линейные преобразования и характеристическое уравнение матрицы\n",
    "\n",
    "<br>\n",
    "\n",
    "> Дано преобразование и базис.<br>\n",
    "1. Перевести преобразование в другой базис. Представить ответ в матричной <br>\n",
    "форме и виде формул. <br>\n",
    "2. Построить характеристические полиномы и проверить, что они совпадают.<br>\n",
    "3. Получить характеристические числа преобразования.<br>\n",
    "4. Найти собственное значение.<br>\n",
    "\n",
    "<br><center>Грубенко Максим (группа: М8О-210Б-20)<br>Вариант 3</center>"
   ]
  },
  {
   "cell_type": "code",
   "execution_count": 6,
   "metadata": {},
   "outputs": [
    {
     "data": {
      "text/html": [
       "<html><script type=\"math/tex; mode=display\">\\newcommand{\\Bold}[1]{\\mathbf{#1}}A = \\left(\\begin{array}{rrr}\n",
       "3 & -1 & -2 \\\\\n",
       "2 & 1 & -3 \\\\\n",
       "1 & 0 & -1\n",
       "\\end{array}\\right)</script></html>"
      ],
      "text/latex": [
       "\\begin{math}\n",
       "\\newcommand{\\Bold}[1]{\\mathbf{#1}}A = \\left(\\begin{array}{rrr}\n",
       "3 & -1 & -2 \\\\\n",
       "2 & 1 & -3 \\\\\n",
       "1 & 0 & -1\n",
       "\\end{array}\\right)\n",
       "\\end{math}"
      ],
      "text/plain": [
       "A = \\left(\\begin{array}{rrr}\n",
       "3 & -1 & -2 \\\\\n",
       "2 & 1 & -3 \\\\\n",
       "1 & 0 & -1\n",
       "\\end{array}\\right)"
      ]
     },
     "metadata": {},
     "output_type": "display_data"
    },
    {
     "data": {
      "text/html": [
       "<html><script type=\"math/tex; mode=display\">\\newcommand{\\Bold}[1]{\\mathbf{#1}}e_0' = e_{1} + e_{2} + e_{3}</script></html>"
      ],
      "text/latex": [
       "\\begin{math}\n",
       "\\newcommand{\\Bold}[1]{\\mathbf{#1}}e_0' = e_{1} + e_{2} + e_{3}\n",
       "\\end{math}"
      ],
      "text/plain": [
       "e_0' = e_{1} + e_{2} + e_{3}"
      ]
     },
     "metadata": {},
     "output_type": "display_data"
    },
    {
     "data": {
      "text/html": [
       "<html><script type=\"math/tex; mode=display\">\\newcommand{\\Bold}[1]{\\mathbf{#1}}e_1' = e_{1} + e_{2}</script></html>"
      ],
      "text/latex": [
       "\\begin{math}\n",
       "\\newcommand{\\Bold}[1]{\\mathbf{#1}}e_1' = e_{1} + e_{2}\n",
       "\\end{math}"
      ],
      "text/plain": [
       "e_1' = e_{1} + e_{2}"
      ]
     },
     "metadata": {},
     "output_type": "display_data"
    },
    {
     "data": {
      "text/html": [
       "<html><script type=\"math/tex; mode=display\">\\newcommand{\\Bold}[1]{\\mathbf{#1}}e_2' = 2 \\, e_{2} + e_{3}</script></html>"
      ],
      "text/latex": [
       "\\begin{math}\n",
       "\\newcommand{\\Bold}[1]{\\mathbf{#1}}e_2' = 2 \\, e_{2} + e_{3}\n",
       "\\end{math}"
      ],
      "text/plain": [
       "e_2' = 2 \\, e_{2} + e_{3}"
      ]
     },
     "metadata": {},
     "output_type": "display_data"
    }
   ],
   "source": [
    "A = Matrix([[3, -1, -2], [2, 1, -3], [1, 0, -1]])\n",
    "show(LatexExpr(f\"A = {latex(A)}\"))\n",
    "\n",
    "S = Matrix([[1, 1, 1], [1, 1, 0], [0, 2, 1]])\n",
    "e1, e2, e3 = var(\"e_1 e_2 e_3\")\n",
    "ve = vector([e1, e2, e3])\n",
    "for i, row in enumerate(S * ve):\n",
    "    show(LatexExpr(fr\"e_{i}' = {latex(row)}\"))"
   ]
  },
  {
   "cell_type": "markdown",
   "metadata": {},
   "source": [
    "<b>1. Перевести преобразование в другой базис. Ответ предоставить в виде матрицы и формулы.</b> <br>\n",
    "Пусть преобразование заданётся матрицей A. А матрица перехода в другой базис задаётся матрицей S.<br>\n",
    "Тогда искомая матрица A' находится по формуле: \n",
    "> $$A' = S^{-1}\\cdot A\\cdot S$$"
   ]
  },
  {
   "cell_type": "code",
   "execution_count": 7,
   "metadata": {},
   "outputs": [
    {
     "data": {
      "text/html": [
       "<html><script type=\"math/tex; mode=display\">\\newcommand{\\Bold}[1]{\\mathbf{#1}}A' = \\left(\\begin{array}{rrr}\n",
       "0 & \\frac{1}{2} & -\\frac{5}{2} \\\\\n",
       "0 & \\frac{3}{2} & -\\frac{3}{2} \\\\\n",
       "0 & \\frac{1}{2} & \\frac{3}{2}\n",
       "\\end{array}\\right)</script></html>"
      ],
      "text/latex": [
       "\\begin{math}\n",
       "\\newcommand{\\Bold}[1]{\\mathbf{#1}}A' = \\left(\\begin{array}{rrr}\n",
       "0 & \\frac{1}{2} & -\\frac{5}{2} \\\\\n",
       "0 & \\frac{3}{2} & -\\frac{3}{2} \\\\\n",
       "0 & \\frac{1}{2} & \\frac{3}{2}\n",
       "\\end{array}\\right)\n",
       "\\end{math}"
      ],
      "text/plain": [
       "A' = \\left(\\begin{array}{rrr}\n",
       "0 & \\frac{1}{2} & -\\frac{5}{2} \\\\\n",
       "0 & \\frac{3}{2} & -\\frac{3}{2} \\\\\n",
       "0 & \\frac{1}{2} & \\frac{3}{2}\n",
       "\\end{array}\\right)"
      ]
     },
     "metadata": {},
     "output_type": "display_data"
    }
   ],
   "source": [
    "S = S.transpose()\n",
    "A_new = S^(-1)*A*S\n",
    "show(LatexExpr(f\"A' = {latex(A_new)}\"))"
   ]
  },
  {
   "cell_type": "markdown",
   "metadata": {},
   "source": [
    "<b>2. Построить характеристические полиномы и проверить, что они совпадают.</b><br> Полином задается уравнением:\n",
    "> $$\\phi_A(\\lambda) =|A - \\lambda E|$$"
   ]
  },
  {
   "cell_type": "code",
   "execution_count": 8,
   "metadata": {},
   "outputs": [
    {
     "data": {
      "text/html": [
       "<html><script type=\"math/tex; mode=display\">\\newcommand{\\Bold}[1]{\\mathbf{#1}}\\phi_A = x^{3} - 3 x^{2} + 3 x</script></html>"
      ],
      "text/latex": [
       "\\begin{math}\n",
       "\\newcommand{\\Bold}[1]{\\mathbf{#1}}\\phi_A = x^{3} - 3 x^{2} + 3 x\n",
       "\\end{math}"
      ],
      "text/plain": [
       "\\phi_A = x^{3} - 3 x^{2} + 3 x"
      ]
     },
     "metadata": {},
     "output_type": "display_data"
    },
    {
     "data": {
      "text/html": [
       "Характеристические полиномы совпадают между собой и также совпадают со встроенным методом charpoly()"
      ],
      "text/plain": [
       "Характеристические полиномы совпадают между собой и также совпадают со встроенным методом charpoly()"
      ]
     },
     "metadata": {},
     "output_type": "display_data"
    }
   ],
   "source": [
    "R.<x> = QQ[]\n",
    "\n",
    "phi_A = det(A - x*identity_matrix(3)).monic()\n",
    "phi_A_new = det(A_new - x*identity_matrix(3)).monic()\n",
    "\n",
    "# проверка\n",
    "\n",
    "if (phi_A_new == phi_A and phi_A == A.charpoly()):\n",
    "    show(LatexExpr(f\"\\\\phi_A = {latex(phi_A)}\"))\n",
    "    show(html(\"Характеристические полиномы совпадают между собой и также совпадают со встроенным методом charpoly()\"))"
   ]
  },
  {
   "cell_type": "markdown",
   "metadata": {},
   "source": [
    "<b>3. Получить характеристические числа преобразования"
   ]
  },
  {
   "cell_type": "code",
   "execution_count": 9,
   "metadata": {},
   "outputs": [
    {
     "data": {
      "text/html": [
       "Собственные числа:"
      ],
      "text/plain": [
       "Собственные числа:"
      ]
     },
     "metadata": {},
     "output_type": "display_data"
    },
    {
     "data": {
      "text/html": [
       "<html><script type=\"math/tex; mode=display\">\\newcommand{\\Bold}[1]{\\mathbf{#1}}\\lambda_0 = 1.50 - 0.866i</script></html>"
      ],
      "text/latex": [
       "\\begin{math}\n",
       "\\newcommand{\\Bold}[1]{\\mathbf{#1}}\\lambda_0 = 1.50 - 0.866i\n",
       "\\end{math}"
      ],
      "text/plain": [
       "\\lambda_0 = 1.50 - 0.866i"
      ]
     },
     "metadata": {},
     "output_type": "display_data"
    },
    {
     "data": {
      "text/html": [
       "<html><script type=\"math/tex; mode=display\">\\newcommand{\\Bold}[1]{\\mathbf{#1}}\\lambda_1 = 1.50 + 0.866i</script></html>"
      ],
      "text/latex": [
       "\\begin{math}\n",
       "\\newcommand{\\Bold}[1]{\\mathbf{#1}}\\lambda_1 = 1.50 + 0.866i\n",
       "\\end{math}"
      ],
      "text/plain": [
       "\\lambda_1 = 1.50 + 0.866i"
      ]
     },
     "metadata": {},
     "output_type": "display_data"
    },
    {
     "data": {
      "text/html": [
       "<html><script type=\"math/tex; mode=display\">\\newcommand{\\Bold}[1]{\\mathbf{#1}}\\lambda_2 = 0.000</script></html>"
      ],
      "text/latex": [
       "\\begin{math}\n",
       "\\newcommand{\\Bold}[1]{\\mathbf{#1}}\\lambda_2 = 0.000\n",
       "\\end{math}"
      ],
      "text/plain": [
       "\\lambda_2 = 0.000"
      ]
     },
     "metadata": {},
     "output_type": "display_data"
    },
    {
     "data": {
      "text/html": [
       "Собственные числа по версии sage:"
      ],
      "text/plain": [
       "Собственные числа по версии sage:"
      ]
     },
     "metadata": {},
     "output_type": "display_data"
    },
    {
     "data": {
      "text/html": [
       "<html><script type=\"math/tex; mode=display\">\\newcommand{\\Bold}[1]{\\mathbf{#1}}\\lambda_0 = 0.000</script></html>"
      ],
      "text/latex": [
       "\\begin{math}\n",
       "\\newcommand{\\Bold}[1]{\\mathbf{#1}}\\lambda_0 = 0.000\n",
       "\\end{math}"
      ],
      "text/plain": [
       "\\lambda_0 = 0.000"
      ]
     },
     "metadata": {},
     "output_type": "display_data"
    },
    {
     "data": {
      "text/html": [
       "<html><script type=\"math/tex; mode=display\">\\newcommand{\\Bold}[1]{\\mathbf{#1}}\\lambda_1 = 1.50 - 0.866i</script></html>"
      ],
      "text/latex": [
       "\\begin{math}\n",
       "\\newcommand{\\Bold}[1]{\\mathbf{#1}}\\lambda_1 = 1.50 - 0.866i\n",
       "\\end{math}"
      ],
      "text/plain": [
       "\\lambda_1 = 1.50 - 0.866i"
      ]
     },
     "metadata": {},
     "output_type": "display_data"
    },
    {
     "data": {
      "text/html": [
       "<html><script type=\"math/tex; mode=display\">\\newcommand{\\Bold}[1]{\\mathbf{#1}}\\lambda_2 = 1.50 + 0.866i</script></html>"
      ],
      "text/latex": [
       "\\begin{math}\n",
       "\\newcommand{\\Bold}[1]{\\mathbf{#1}}\\lambda_2 = 1.50 + 0.866i\n",
       "\\end{math}"
      ],
      "text/plain": [
       "\\lambda_2 = 1.50 + 0.866i"
      ]
     },
     "metadata": {},
     "output_type": "display_data"
    }
   ],
   "source": [
    "lam = var(\"lambda_\")\n",
    "f = phi_A_new(lam)\n",
    "\n",
    "sols = solve(f, lam, solution_dict=True)\n",
    "show(html(\"Собственные числа:\"))\n",
    "\n",
    "for i, sol in enumerate(sols):\n",
    "    show(LatexExpr(f\"\\\\lambda_{latex(i)} = {latex(sol[lam].n().n(digits=3))}\"))\n",
    "\n",
    "# Проверка встроенной функцией поиска собственных чисел\n",
    "\n",
    "show(html(\"Собственные числа по версии sage:\"))\n",
    "\n",
    "ssols = A_new.eigenvalues()\n",
    "for i, ssol in enumerate(ssols):\n",
    "    show(LatexExpr(f\"\\\\lambda_{latex(i)} = {latex(ssol.n().n(digits=3))}\"))"
   ]
  },
  {
   "cell_type": "markdown",
   "metadata": {},
   "source": [
    "<b> 4. Получить собственные векторы преобразования </b>\n",
    "> $$A\\cdot v = \\lambda \\cdot v, v\\neq 0$$\n",
    "> $$(A - \\lambda I) \\cdot v == 0$$"
   ]
  },
  {
   "cell_type": "code",
   "execution_count": 10,
   "metadata": {},
   "outputs": [
    {
     "data": {
      "text/html": [
       "<html><script type=\"math/tex; mode=display\">\\newcommand{\\Bold}[1]{\\mathbf{#1}}\\lambda_0 = 1.50 - 0.866i</script></html>"
      ],
      "text/latex": [
       "\\begin{math}\n",
       "\\newcommand{\\Bold}[1]{\\mathbf{#1}}\\lambda_0 = 1.50 - 0.866i\n",
       "\\end{math}"
      ],
      "text/plain": [
       "\\lambda_0 = 1.50 - 0.866i"
      ]
     },
     "metadata": {},
     "output_type": "display_data"
    },
    {
     "data": {
      "text/html": [
       "<html><script type=\"math/tex; mode=display\">\\newcommand{\\Bold}[1]{\\mathbf{#1}}v_0 = (1.00, 0.857 + 0.742*I, -0.429 + 0.495*I)</script></html>"
      ],
      "text/latex": [
       "\\begin{math}\n",
       "\\newcommand{\\Bold}[1]{\\mathbf{#1}}v_0 = (1.00, 0.857 + 0.742*I, -0.429 + 0.495*I)\n",
       "\\end{math}"
      ],
      "text/plain": [
       "v_0 = (1.00, 0.857 + 0.742*I, -0.429 + 0.495*I)"
      ]
     },
     "metadata": {},
     "output_type": "display_data"
    },
    {
     "data": {
      "text/html": [
       "<html><script type=\"math/tex; mode=display\">\\newcommand{\\Bold}[1]{\\mathbf{#1}}</script></html>"
      ],
      "text/latex": [
       "\\begin{math}\n",
       "\\newcommand{\\Bold}[1]{\\mathbf{#1}}\n",
       "\\end{math}"
      ],
      "text/plain": [
       "''"
      ]
     },
     "metadata": {},
     "output_type": "display_data"
    },
    {
     "data": {
      "text/html": [
       "<html><script type=\"math/tex; mode=display\">\\newcommand{\\Bold}[1]{\\mathbf{#1}}\\lambda_1 = 1.50 + 0.866i</script></html>"
      ],
      "text/latex": [
       "\\begin{math}\n",
       "\\newcommand{\\Bold}[1]{\\mathbf{#1}}\\lambda_1 = 1.50 + 0.866i\n",
       "\\end{math}"
      ],
      "text/plain": [
       "\\lambda_1 = 1.50 + 0.866i"
      ]
     },
     "metadata": {},
     "output_type": "display_data"
    },
    {
     "data": {
      "text/html": [
       "<html><script type=\"math/tex; mode=display\">\\newcommand{\\Bold}[1]{\\mathbf{#1}}v_1 = (1.00, 0.857 - 0.742*I, -0.429 - 0.495*I)</script></html>"
      ],
      "text/latex": [
       "\\begin{math}\n",
       "\\newcommand{\\Bold}[1]{\\mathbf{#1}}v_1 = (1.00, 0.857 - 0.742*I, -0.429 - 0.495*I)\n",
       "\\end{math}"
      ],
      "text/plain": [
       "v_1 = (1.00, 0.857 - 0.742*I, -0.429 - 0.495*I)"
      ]
     },
     "metadata": {},
     "output_type": "display_data"
    },
    {
     "data": {
      "text/html": [
       "<html><script type=\"math/tex; mode=display\">\\newcommand{\\Bold}[1]{\\mathbf{#1}}</script></html>"
      ],
      "text/latex": [
       "\\begin{math}\n",
       "\\newcommand{\\Bold}[1]{\\mathbf{#1}}\n",
       "\\end{math}"
      ],
      "text/plain": [
       "''"
      ]
     },
     "metadata": {},
     "output_type": "display_data"
    },
    {
     "data": {
      "text/html": [
       "<html><script type=\"math/tex; mode=display\">\\newcommand{\\Bold}[1]{\\mathbf{#1}}\\lambda_2 = 0.000</script></html>"
      ],
      "text/latex": [
       "\\begin{math}\n",
       "\\newcommand{\\Bold}[1]{\\mathbf{#1}}\\lambda_2 = 0.000\n",
       "\\end{math}"
      ],
      "text/plain": [
       "\\lambda_2 = 0.000"
      ]
     },
     "metadata": {},
     "output_type": "display_data"
    },
    {
     "data": {
      "text/html": [
       "<html><script type=\"math/tex; mode=display\">\\newcommand{\\Bold}[1]{\\mathbf{#1}}v_2 = (1.00, 0.000, 0.000)</script></html>"
      ],
      "text/latex": [
       "\\begin{math}\n",
       "\\newcommand{\\Bold}[1]{\\mathbf{#1}}v_2 = (1.00, 0.000, 0.000)\n",
       "\\end{math}"
      ],
      "text/plain": [
       "v_2 = (1.00, 0.000, 0.000)"
      ]
     },
     "metadata": {},
     "output_type": "display_data"
    },
    {
     "data": {
      "text/html": [
       "<html><script type=\"math/tex; mode=display\">\\newcommand{\\Bold}[1]{\\mathbf{#1}}</script></html>"
      ],
      "text/latex": [
       "\\begin{math}\n",
       "\\newcommand{\\Bold}[1]{\\mathbf{#1}}\n",
       "\\end{math}"
      ],
      "text/plain": [
       "''"
      ]
     },
     "metadata": {},
     "output_type": "display_data"
    }
   ],
   "source": [
    "for i, sol in enumerate(sols):\n",
    "    B = (A_new - sol[lam]*identity_matrix(3))\n",
    "    \n",
    "    show(LatexExpr(f\"\\\\lambda_{latex(i)} = {latex(sol[lam].n().n(digits=3))}\"))\n",
    "    show(LatexExpr(f\"v_{i} = {B.right_kernel().basis()[0].n().n(digits=3)}\"))\n",
    "    show(\"\")"
   ]
  }
 ],
 "metadata": {
  "kernelspec": {
   "display_name": "SageMath 9.2",
   "language": "sage",
   "name": "sagemath"
  },
  "language_info": {
   "codemirror_mode": {
    "name": "ipython",
    "version": 3
   },
   "file_extension": ".py",
   "mimetype": "text/x-python",
   "name": "python",
   "nbconvert_exporter": "python",
   "pygments_lexer": "ipython3",
   "version": "3.7.7"
  }
 },
 "nbformat": 4,
 "nbformat_minor": 4
}
