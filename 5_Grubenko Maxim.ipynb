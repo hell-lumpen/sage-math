{
 "cells": [
  {
   "cell_type": "markdown",
   "metadata": {},
   "source": [
    "<h1>Лабораторная работа 5</h1>\n",
    "<h2>Алгебраические уравнения 4й степени</h2>\n",
    "<br>\n",
    "x<sup>4</sup> + 3*x<sup>3</sup> - 4x<sup>2</sup> - 3x + 3 = 0 <br>\n",
    "Методом Феррари решить заданное уравнение 4й степени.\n",
    "Нарисовать график функции, отметить на нем найденные корни.\n",
    "Комплексные корни представить в алгебраической, тригонометрической и\n",
    "экспоненциальной формах.\n",
    "<br>\n",
    "<b>Грубенко Максим М8О-210Б-20<br>\n",
    "Вариант 8<br> <b>"
   ]
  },
  {
   "cell_type": "code",
   "execution_count": 1,
   "metadata": {},
   "outputs": [],
   "source": [
    "x = var(\"x\")\n",
    "\n",
    "f_x = x**4 + 3*x**3 - 4*x**2 - 3*x + 3;"
   ]
  },
  {
   "cell_type": "code",
   "execution_count": 2,
   "metadata": {},
   "outputs": [
    {
     "data": {
      "text/html": [
       "<html><script type=\"math/tex; mode=display\">\\newcommand{\\Bold}[1]{\\mathbf{#1}}y^{4} - \\frac{59}{8} \\, y^{2} + \\frac{51}{8} \\, y + \\frac{525}{256}</script></html>"
      ],
      "text/latex": [
       "\\begin{math}\n",
       "\\newcommand{\\Bold}[1]{\\mathbf{#1}}y^{4} - \\frac{59}{8} \\, y^{2} + \\frac{51}{8} \\, y + \\frac{525}{256}\n",
       "\\end{math}"
      ],
      "text/plain": [
       "y^4 - 59/8*y^2 + 51/8*y + 525/256"
      ]
     },
     "metadata": {},
     "output_type": "display_data"
    }
   ],
   "source": [
    "y = var(\"y\")\n",
    "polynom = f_x(x = y - 3/4).expand().simplify_full()\n",
    "show(polynom)"
   ]
  },
  {
   "cell_type": "code",
   "execution_count": 3,
   "metadata": {},
   "outputs": [
    {
     "data": {
      "text/html": [
       "<html><script type=\"math/tex; mode=display\">\\newcommand{\\Bold}[1]{\\mathbf{#1}}-p s^{2} + 2 \\, s^{3} - \\frac{1}{4} \\, q^{2} + p r - 2 \\, r s</script></html>"
      ],
      "text/latex": [
       "\\begin{math}\n",
       "\\newcommand{\\Bold}[1]{\\mathbf{#1}}-p s^{2} + 2 \\, s^{3} - \\frac{1}{4} \\, q^{2} + p r - 2 \\, r s\n",
       "\\end{math}"
      ],
      "text/plain": [
       "-p*s^2 + 2*s^3 - 1/4*q^2 + p*r - 2*r*s"
      ]
     },
     "metadata": {},
     "output_type": "display_data"
    },
    {
     "data": {
      "text/html": [
       "<html><script type=\"math/tex; mode=display\">\\newcommand{\\Bold}[1]{\\mathbf{#1}}2 \\, s^{3} + \\frac{59}{8} \\, s^{2} - \\frac{525}{128} \\, s - \\frac{51783}{2048}</script></html>"
      ],
      "text/latex": [
       "\\begin{math}\n",
       "\\newcommand{\\Bold}[1]{\\mathbf{#1}}2 \\, s^{3} + \\frac{59}{8} \\, s^{2} - \\frac{525}{128} \\, s - \\frac{51783}{2048}\n",
       "\\end{math}"
      ],
      "text/plain": [
       "2*s^3 + 59/8*s^2 - 525/128*s - 51783/2048"
      ]
     },
     "metadata": {},
     "output_type": "display_data"
    }
   ],
   "source": [
    "pqr = {'p':-59/8, 'q': 51/8, 'r': 525/256}\n",
    "var(\"s p q r\")\n",
    "resolvent = 2*s**3 - p*s**2 - 2*r*s + r*p - q**2/4\n",
    "show(resolvent)\n",
    "poly_s_n = resolvent(**pqr)\n",
    "show(poly_s_n)"
   ]
  },
  {
   "cell_type": "code",
   "execution_count": 4,
   "metadata": {},
   "outputs": [],
   "source": [
    "sols = solve(poly_s_n, s)  \n",
    "s_0 = sols[2].rhs()"
   ]
  },
  {
   "cell_type": "code",
   "execution_count": 5,
   "metadata": {},
   "outputs": [],
   "source": [
    "var(\"y s p q\")\n",
    "poly_y_1 = y**2 - y*sqrt(2*s - p) + q/(2*sqrt(2*s - p)) + s\n",
    "poly_y_2 = y**2 + y*sqrt(2*s - p) - q/(2*sqrt(2*s - p)) + s\n",
    "\n",
    "poly_y_1_n = poly_y_1(**pqr, s=s_0)\n",
    "poly_y_2_n = poly_y_2(**pqr, s=s_0)\n",
    "\n",
    "sols = solve(poly_y_1_n, y)\n",
    "sols.extend(solve(poly_y_2_n, y))"
   ]
  },
  {
   "cell_type": "code",
   "execution_count": 6,
   "metadata": {},
   "outputs": [],
   "source": [
    "def trigonometric_representation(z):\n",
    "    phi = atan2(z.imag(), z.real()).n(digits=4)\n",
    "    z_abs = z.abs().n(digits=4)\n",
    "    z_trig = z_abs*(cos(phi, hold=True) + I*sin(phi, hold=True))\n",
    "    return z_trig\n",
    "    \n",
    "def exponential_representation(z):\n",
    "    phi = atan2(z.imag(), z.real()).n(digits=4)\n",
    "    z_abs = z.abs().n(digits=4)\n",
    "    z_exp = f\"{z_abs}\" + r\"\\cdot e^{\" + f\"{phi}\" + r\"\\cdot i}\"\n",
    "    return z_exp"
   ]
  },
  {
   "cell_type": "code",
   "execution_count": 7,
   "metadata": {},
   "outputs": [
    {
     "data": {
      "text/html": [
       "Алгебраическое представление x<sub><script type=\"math/tex\">0</script></sub> = <script type=\"math/tex\">1.000</script>"
      ],
      "text/plain": [
       "Алгебраическое представление x<sub><script type=\"math/tex\">0</script></sub> = <script type=\"math/tex\">1.000</script>"
      ]
     },
     "metadata": {},
     "output_type": "display_data"
    },
    {
     "data": {
      "text/html": [
       "Тригонометрическое представление x<sub><script type=\"math/tex\">0</script></sub> = <script type=\"math/tex\">1.000*cos(0.0000) + 1.000*I*sin(0.0000)</script>"
      ],
      "text/plain": [
       "Тригонометрическое представление x<sub><script type=\"math/tex\">0</script></sub> = <script type=\"math/tex\">1.000*cos(0.0000) + 1.000*I*sin(0.0000)</script>"
      ]
     },
     "metadata": {},
     "output_type": "display_data"
    },
    {
     "data": {
      "text/html": [
       "Экспоненциальное представление x<sub><script type=\"math/tex\">0</script></sub> = <script type=\"math/tex\">1.000\\cdot e^{0.0000\\cdot i}</script>"
      ],
      "text/plain": [
       "Экспоненциальное представление x<sub><script type=\"math/tex\">0</script></sub> = <script type=\"math/tex\">1.000\\cdot e^{0.0000\\cdot i}</script>"
      ]
     },
     "metadata": {},
     "output_type": "display_data"
    },
    {
     "data": {
      "text/html": [
       "<html><script type=\"math/tex; mode=display\">\\newcommand{\\Bold}[1]{\\mathbf{#1}}</script></html>"
      ],
      "text/latex": [
       "\\begin{math}\n",
       "\\newcommand{\\Bold}[1]{\\mathbf{#1}}\n",
       "\\end{math}"
      ],
      "text/plain": [
       "''"
      ]
     },
     "metadata": {},
     "output_type": "display_data"
    },
    {
     "data": {
      "text/html": [
       "Алгебраическое представление x<sub><script type=\"math/tex\">1</script></sub> = <script type=\"math/tex\">-1.000</script>"
      ],
      "text/plain": [
       "Алгебраическое представление x<sub><script type=\"math/tex\">1</script></sub> = <script type=\"math/tex\">-1.000</script>"
      ]
     },
     "metadata": {},
     "output_type": "display_data"
    },
    {
     "data": {
      "text/html": [
       "Тригонометрическое представление x<sub><script type=\"math/tex\">1</script></sub> = <script type=\"math/tex\">1.000*cos(3.142) + 1.000*I*sin(3.142)</script>"
      ],
      "text/plain": [
       "Тригонометрическое представление x<sub><script type=\"math/tex\">1</script></sub> = <script type=\"math/tex\">1.000*cos(3.142) + 1.000*I*sin(3.142)</script>"
      ]
     },
     "metadata": {},
     "output_type": "display_data"
    },
    {
     "data": {
      "text/html": [
       "Экспоненциальное представление x<sub><script type=\"math/tex\">1</script></sub> = <script type=\"math/tex\">1.000\\cdot e^{3.142\\cdot i}</script>"
      ],
      "text/plain": [
       "Экспоненциальное представление x<sub><script type=\"math/tex\">1</script></sub> = <script type=\"math/tex\">1.000\\cdot e^{3.142\\cdot i}</script>"
      ]
     },
     "metadata": {},
     "output_type": "display_data"
    },
    {
     "data": {
      "text/html": [
       "<html><script type=\"math/tex; mode=display\">\\newcommand{\\Bold}[1]{\\mathbf{#1}}</script></html>"
      ],
      "text/latex": [
       "\\begin{math}\n",
       "\\newcommand{\\Bold}[1]{\\mathbf{#1}}\n",
       "\\end{math}"
      ],
      "text/plain": [
       "''"
      ]
     },
     "metadata": {},
     "output_type": "display_data"
    },
    {
     "data": {
      "text/html": [
       "Алгебраическое представление x<sub><script type=\"math/tex\">2</script></sub> = <script type=\"math/tex\">-3.791</script>"
      ],
      "text/plain": [
       "Алгебраическое представление x<sub><script type=\"math/tex\">2</script></sub> = <script type=\"math/tex\">-3.791</script>"
      ]
     },
     "metadata": {},
     "output_type": "display_data"
    },
    {
     "data": {
      "text/html": [
       "Тригонометрическое представление x<sub><script type=\"math/tex\">2</script></sub> = <script type=\"math/tex\">3.791*cos(3.142) + 3.791*I*sin(3.142)</script>"
      ],
      "text/plain": [
       "Тригонометрическое представление x<sub><script type=\"math/tex\">2</script></sub> = <script type=\"math/tex\">3.791*cos(3.142) + 3.791*I*sin(3.142)</script>"
      ]
     },
     "metadata": {},
     "output_type": "display_data"
    },
    {
     "data": {
      "text/html": [
       "Экспоненциальное представление x<sub><script type=\"math/tex\">2</script></sub> = <script type=\"math/tex\">3.791\\cdot e^{3.142\\cdot i}</script>"
      ],
      "text/plain": [
       "Экспоненциальное представление x<sub><script type=\"math/tex\">2</script></sub> = <script type=\"math/tex\">3.791\\cdot e^{3.142\\cdot i}</script>"
      ]
     },
     "metadata": {},
     "output_type": "display_data"
    },
    {
     "data": {
      "text/html": [
       "<html><script type=\"math/tex; mode=display\">\\newcommand{\\Bold}[1]{\\mathbf{#1}}</script></html>"
      ],
      "text/latex": [
       "\\begin{math}\n",
       "\\newcommand{\\Bold}[1]{\\mathbf{#1}}\n",
       "\\end{math}"
      ],
      "text/plain": [
       "''"
      ]
     },
     "metadata": {},
     "output_type": "display_data"
    },
    {
     "data": {
      "text/html": [
       "Алгебраическое представление x<sub><script type=\"math/tex\">3</script></sub> = <script type=\"math/tex\">0.7913</script>"
      ],
      "text/plain": [
       "Алгебраическое представление x<sub><script type=\"math/tex\">3</script></sub> = <script type=\"math/tex\">0.7913</script>"
      ]
     },
     "metadata": {},
     "output_type": "display_data"
    },
    {
     "data": {
      "text/html": [
       "Тригонометрическое представление x<sub><script type=\"math/tex\">3</script></sub> = <script type=\"math/tex\">0.7913*cos(0.0000) + 0.7913*I*sin(0.0000)</script>"
      ],
      "text/plain": [
       "Тригонометрическое представление x<sub><script type=\"math/tex\">3</script></sub> = <script type=\"math/tex\">0.7913*cos(0.0000) + 0.7913*I*sin(0.0000)</script>"
      ]
     },
     "metadata": {},
     "output_type": "display_data"
    },
    {
     "data": {
      "text/html": [
       "Экспоненциальное представление x<sub><script type=\"math/tex\">3</script></sub> = <script type=\"math/tex\">0.7913\\cdot e^{0.0000\\cdot i}</script>"
      ],
      "text/plain": [
       "Экспоненциальное представление x<sub><script type=\"math/tex\">3</script></sub> = <script type=\"math/tex\">0.7913\\cdot e^{0.0000\\cdot i}</script>"
      ]
     },
     "metadata": {},
     "output_type": "display_data"
    },
    {
     "data": {
      "text/html": [
       "<html><script type=\"math/tex; mode=display\">\\newcommand{\\Bold}[1]{\\mathbf{#1}}</script></html>"
      ],
      "text/latex": [
       "\\begin{math}\n",
       "\\newcommand{\\Bold}[1]{\\mathbf{#1}}\n",
       "\\end{math}"
      ],
      "text/plain": [
       "''"
      ]
     },
     "metadata": {},
     "output_type": "display_data"
    },
    {
     "data": {
      "image/png": "[encoded data removed]",
      "text/plain": [
       "Graphics object consisting of 5 graphics primitives"
      ]
     },
     "metadata": {},
     "output_type": "display_data"
    }
   ],
   "source": [
    "sols = solve(f_x, x)\n",
    "graf = plot(f_x, -5, 5)\n",
    "for i, sol in enumerate(sols):\n",
    "    a = sol.rhs()\n",
    "    show(html(f\"Алгебраическое представление x<sub>${i}$</sub> = ${a.n(digits=4)}$\"))\n",
    "    show(html(f\"Тригонометрическое представление x<sub>${i}$</sub> = ${trigonometric_representation(a)}$\"))\n",
    "    show(html(f\"Экспоненциальное представление x<sub>${i}$</sub> = ${exponential_representation(a)}$\"))\n",
    "    show(\"\")\n",
    "    graf += point((a, 0), size = 30, color = 'black')\n",
    "\n",
    "show(graf)"
   ]
  }
 ],
 "metadata": {
  "kernelspec": {
   "display_name": "SageMath 9.2",
   "language": "sage",
   "name": "sagemath"
  },
  "language_info": {
   "codemirror_mode": {
    "name": "ipython",
    "version": 3
   },
   "file_extension": ".py",
   "mimetype": "text/x-python",
   "name": "python",
   "nbconvert_exporter": "python",
   "pygments_lexer": "ipython3",
   "version": "3.7.7"
  }
 },
 "nbformat": 4,
 "nbformat_minor": 4
}
