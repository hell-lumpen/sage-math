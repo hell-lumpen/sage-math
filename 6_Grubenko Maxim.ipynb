{
 "cells": [
  {
   "cell_type": "markdown",
   "metadata": {},
   "source": [
    "<h1>Лабораторная работа 6</h1>\n",
    "<h2>НОД двух полиномов</h2>\n",
    "<br>\n",
    "Задание\n",
    "Реализовать расширенный алгоритм Евклида для полиномов,\n",
    "получить НОД, сравнить его с результатом от функции gcd()\n",
    "получить представление НОД в виде: f*u + v*g (тождество Безу - см. примеры).\n",
    "<br>\n",
    "<br>\n",
    "<center><b>Грубенко Максим М8О-210Б-20</b></center>\n",
    "<center><b>Вариант 8</b></center>"
   ]
  },
  {
   "cell_type": "code",
   "execution_count": 1,
   "metadata": {
    "scrolled": true
   },
   "outputs": [
    {
     "data": {
      "text/html": [
       "Найти GCD (Greatest Common Divisor) полиномов f и g:"
      ],
      "text/plain": [
       "Найти GCD (Greatest Common Divisor) полиномов f и g:"
      ]
     },
     "metadata": {},
     "output_type": "display_data"
    },
    {
     "data": {
      "text/html": [
       "<html><script type=\"math/tex; mode=display\">\\newcommand{\\Bold}[1]{\\mathbf{#1}}f: x^{4} + x^{3} - 2 x^{2} - x - 1</script></html>"
      ],
      "text/latex": [
       "\\begin{math}\n",
       "\\newcommand{\\Bold}[1]{\\mathbf{#1}}f: x^{4} + x^{3} - 2 x^{2} - x - 1\n",
       "\\end{math}"
      ],
      "text/plain": [
       "f: x^{4} + x^{3} - 2 x^{2} - x - 1"
      ]
     },
     "metadata": {},
     "output_type": "display_data"
    },
    {
     "data": {
      "text/html": [
       "<html><script type=\"math/tex; mode=display\">\\newcommand{\\Bold}[1]{\\mathbf{#1}}g: x^{4} + x^{3} - 2 x^{2} - x - 1</script></html>"
      ],
      "text/latex": [
       "\\begin{math}\n",
       "\\newcommand{\\Bold}[1]{\\mathbf{#1}}g: x^{4} + x^{3} - 2 x^{2} - x - 1\n",
       "\\end{math}"
      ],
      "text/plain": [
       "g: x^{4} + x^{3} - 2 x^{2} - x - 1"
      ]
     },
     "metadata": {},
     "output_type": "display_data"
    }
   ],
   "source": [
    "show(html(\"Найти GCD (Greatest Common Divisor) полиномов f и g:\"))\n",
    "\n",
    "R.<x> = QQ[]\n",
    "f = x**4 + x**3 - 2*x**2 - x**1 - 1\n",
    "g = x**3 + x**2 - x - 1\n",
    "\n",
    "show(LatexExpr(fr\"f: {latex(f)}\"))\n",
    "show(LatexExpr(fr\"g: {latex(f)}\"))"
   ]
  },
  {
   "cell_type": "markdown",
   "metadata": {},
   "source": [
    "### Алгоритм нахождения НОД (GCD)"
   ]
  },
  {
   "cell_type": "code",
   "execution_count": 2,
   "metadata": {},
   "outputs": [],
   "source": [
    "def GCD(a, b):\n",
    "    if a == 0:\n",
    "        return (b, 0, 1)\n",
    "    \n",
    "    else:\n",
    "        div, x, y = GCD(b % a, a)\n",
    "        \n",
    "    return (div, y - (b // a) * x, x)"
   ]
  },
  {
   "cell_type": "code",
   "execution_count": 3,
   "metadata": {},
   "outputs": [
    {
     "data": {
      "text/html": [
       "НОД: <script type=\"math/tex\">1</script> "
      ],
      "text/plain": [
       "НОД: <script type=\"math/tex\">1</script> "
      ]
     },
     "metadata": {},
     "output_type": "display_data"
    },
    {
     "data": {
      "text/html": [
       "Соотношение Безу (gcd = f*v + g*u): <script type=\"math/tex\">1</script>"
      ],
      "text/plain": [
       "Соотношение Безу (gcd = f*v + g*u): <script type=\"math/tex\">1</script>"
      ]
     },
     "metadata": {},
     "output_type": "display_data"
    }
   ],
   "source": [
    "div, u, v = GCD(g, f)\n",
    "\n",
    "if(f != 0 and g != 0):\n",
    "    \n",
    "# Условие на случай нулевых двух полиномов нужно чтобы monic не выкидывал исключение DivizionByZero или AtributeError\n",
    "    _gcd = div.monic() # Return this polynomial divided by its leading coefficient\n",
    "    norm_coeff = _gcd / div\n",
    "    v = v * norm_coeff\n",
    "    u = u * norm_coeff\n",
    "    \n",
    "else:\n",
    "    \n",
    "    _gcd = div\n",
    "    u = 0 \n",
    "    v = 0\n",
    "\n",
    "show(html(f\"НОД: ${_gcd}$ \"))\n",
    "    \n",
    "_gcd2 = f * v + g * u\n",
    "\n",
    "show(html(f\"Соотношение Безу (gcd = f*v + g*u): ${_gcd2}$\"))"
   ]
  },
  {
   "cell_type": "markdown",
   "metadata": {},
   "source": [
    "### Проверка"
   ]
  },
  {
   "cell_type": "code",
   "execution_count": 4,
   "metadata": {},
   "outputs": [
    {
     "data": {
      "text/html": [
       "Результат собственной функции совпал с результатом встроенной функции"
      ],
      "text/plain": [
       "Результат собственной функции совпал с результатом встроенной функции"
      ]
     },
     "metadata": {},
     "output_type": "display_data"
    },
    {
     "data": {
      "text/html": [
       "Cоотношение Безу (gcd = f*v + g*u) также выполняется:"
      ],
      "text/plain": [
       "Cоотношение Безу (gcd = f*v + g*u) также выполняется:"
      ]
     },
     "metadata": {},
     "output_type": "display_data"
    },
    {
     "data": {
      "text/html": [
       "<html><script type=\"math/tex; mode=display\">\\newcommand{\\Bold}[1]{\\mathbf{#1}}((x^{4} + x^{3} - 2 x^{2} - x - 1)*(\\frac{1}{4} x^{2} - \\frac{3}{4}) + ((x^{3} + x^{2} - x - 1)*(-\\frac{1}{4} x^{3} + x - \\frac{1}{4}) = 1</script></html>"
      ],
      "text/latex": [
       "\\begin{math}\n",
       "\\newcommand{\\Bold}[1]{\\mathbf{#1}}((x^{4} + x^{3} - 2 x^{2} - x - 1)*(\\frac{1}{4} x^{2} - \\frac{3}{4}) + ((x^{3} + x^{2} - x - 1)*(-\\frac{1}{4} x^{3} + x - \\frac{1}{4}) = 1\n",
       "\\end{math}"
      ],
      "text/plain": [
       "((x^{4} + x^{3} - 2 x^{2} - x - 1)*(\\frac{1}{4} x^{2} - \\frac{3}{4}) + ((x^{3} + x^{2} - x - 1)*(-\\frac{1}{4} x^{3} + x - \\frac{1}{4}) = 1"
      ]
     },
     "metadata": {},
     "output_type": "display_data"
    }
   ],
   "source": [
    "a, u1, v1 = xgcd(g, f)\n",
    "\n",
    "if (a == _gcd2 and v == v1 and u == u1):\n",
    "    \n",
    "    show(html(\"Результат собственной функции совпал с результатом встроенной функции\"))\n",
    "    if (f * v + g * u == a):\n",
    "        show(html(f\"Cоотношение Безу (gcd = f*v + g*u) также выполняется:\"))\n",
    "        show(LatexExpr(fr\"(({latex(f)})*({latex(v)}) + (({latex(g)})*({latex(u)}) = {latex(a)}\"))\n",
    "        \n",
    "else:\n",
    "    show(html(\"Где-то ошибка ¯\\\\_(ツ)_/¯ \"))"
   ]
  }
 ],
 "metadata": {
  "kernelspec": {
   "display_name": "SageMath 9.2",
   "language": "sage",
   "name": "sagemath"
  },
  "language_info": {
   "codemirror_mode": {
    "name": "ipython",
    "version": 3
   },
   "file_extension": ".py",
   "mimetype": "text/x-python",
   "name": "python",
   "nbconvert_exporter": "python",
   "pygments_lexer": "ipython3",
   "version": "3.7.7"
  }
 },
 "nbformat": 4,
 "nbformat_minor": 4
}
