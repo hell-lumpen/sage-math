{
 "cells": [
  {
   "cell_type": "markdown",
   "metadata": {},
   "source": [
    "<h1>Лабораторная работа 2</h1>\n",
    "<h2>СЛАУ</h2>\n",
    "\n",
    "AX = B\n",
    "\n",
    "1. Невырожденная СЛАУ – решить методом Крамера (по теореме Крамера)<br>\n",
    "определитель матрицы или не равен нулю(1 решение) или равен нулю\n",
    "(неизвестно). https://ru.wikipedia.org/wiki/<br>\n",
    "\n",
    "2. Решить методом Гаусса.<br>\n",
    "\n",
    "Проверить совместимость по теореме Кронеккера-Капелли о ранге мат-<br>\n",
    "рицы совместной системы.<br>\n",
    "<b>Грубенко Максим М8О-210Б-20<br>\n",
    "Вариант 8 </b>"
   ]
  },
  {
   "cell_type": "code",
   "execution_count": 1,
   "metadata": {},
   "outputs": [],
   "source": [
    "import copy as cp"
   ]
  },
  {
   "cell_type": "code",
   "execution_count": 2,
   "metadata": {},
   "outputs": [
    {
     "data": {
      "text/html": [
       "<html><script type=\"math/tex; mode=display\">\\newcommand{\\Bold}[1]{\\mathbf{#1}}\\verb|A|\\phantom{\\verb!x!}\\verb|=| \\left(\\begin{array}{rrr}\n",
       "2 & -3 & 1 \\\\\n",
       "1 & 5 & -4 \\\\\n",
       "4 & 1 & -3\n",
       "\\end{array}\\right) \\phantom{\\verb!xxx!}\\verb|B|\\phantom{\\verb!x!}\\verb|=| \\left(\\begin{array}{r}\n",
       "2 \\\\\n",
       "-5 \\\\\n",
       "-4\n",
       "\\end{array}\\right)</script></html>"
      ],
      "text/latex": [
       "\\begin{math}\n",
       "\\newcommand{\\Bold}[1]{\\mathbf{#1}}\\verb|A|\\phantom{\\verb!x!}\\verb|=| \\left(\\begin{array}{rrr}\n",
       "2 & -3 & 1 \\\\\n",
       "1 & 5 & -4 \\\\\n",
       "4 & 1 & -3\n",
       "\\end{array}\\right) \\phantom{\\verb!xxx!}\\verb|B|\\phantom{\\verb!x!}\\verb|=| \\left(\\begin{array}{r}\n",
       "2 \\\\\n",
       "-5 \\\\\n",
       "-4\n",
       "\\end{array}\\right)\n",
       "\\end{math}"
      ],
      "text/plain": [
       "'A = ' [ 2 -3  1]\n",
       "[ 1  5 -4]\n",
       "[ 4  1 -3] '   B = ' [ 2]\n",
       "[-5]\n",
       "[-4]"
      ]
     },
     "metadata": {},
     "output_type": "display_data"
    }
   ],
   "source": [
    "matrix_a = matrix([[2,-3,1],[1,5,-4],[4,1,-3]])\n",
    "matrix_b = matrix([[2],[-5],[-4]])\n",
    "show(\"A = \", matrix_a,\"   B = \", matrix_b)"
   ]
  },
  {
   "cell_type": "code",
   "execution_count": 3,
   "metadata": {},
   "outputs": [
    {
     "data": {
      "text/html": [
       "<h3>Решение методом Крамера</h3>"
      ],
      "text/plain": [
       "<h3>Решение методом Крамера</h3>"
      ]
     },
     "metadata": {},
     "output_type": "display_data"
    },
    {
     "data": {
      "text/html": [
       "<html><script type=\"math/tex; mode=display\">\\newcommand{\\Bold}[1]{\\mathbf{#1}}\\verb|x| 0 \\phantom{\\verb!x!}\\verb|=| 5</script></html>"
      ],
      "text/latex": [
       "\\begin{math}\n",
       "\\newcommand{\\Bold}[1]{\\mathbf{#1}}\\verb|x| 0 \\phantom{\\verb!x!}\\verb|=| 5\n",
       "\\end{math}"
      ],
      "text/plain": [
       "'x' 0 ' = ' 5"
      ]
     },
     "metadata": {},
     "output_type": "display_data"
    },
    {
     "data": {
      "text/html": [
       "<html><script type=\"math/tex; mode=display\">\\newcommand{\\Bold}[1]{\\mathbf{#1}}\\verb|x| 1 \\phantom{\\verb!x!}\\verb|=| 6</script></html>"
      ],
      "text/latex": [
       "\\begin{math}\n",
       "\\newcommand{\\Bold}[1]{\\mathbf{#1}}\\verb|x| 1 \\phantom{\\verb!x!}\\verb|=| 6\n",
       "\\end{math}"
      ],
      "text/plain": [
       "'x' 1 ' = ' 6"
      ]
     },
     "metadata": {},
     "output_type": "display_data"
    },
    {
     "data": {
      "text/html": [
       "<html><script type=\"math/tex; mode=display\">\\newcommand{\\Bold}[1]{\\mathbf{#1}}\\verb|x| 2 \\phantom{\\verb!x!}\\verb|=| 10</script></html>"
      ],
      "text/latex": [
       "\\begin{math}\n",
       "\\newcommand{\\Bold}[1]{\\mathbf{#1}}\\verb|x| 2 \\phantom{\\verb!x!}\\verb|=| 10\n",
       "\\end{math}"
      ],
      "text/plain": [
       "'x' 2 ' = ' 10"
      ]
     },
     "metadata": {},
     "output_type": "display_data"
    }
   ],
   "source": [
    "show(html(\"<h3>Решение методом Крамера</h3>\"))\n",
    "i = 0\n",
    "if matrix_a.det():\n",
    "    for obj in matrix_a:\n",
    "        new_matrix = cp.copy(matrix_a)\n",
    "        new_matrix[:, i] = matrix_b\n",
    "        x = new_matrix.det()/matrix_a.det()\n",
    "        show(\"x\",i,\" = \", x)\n",
    "        i = i + 1\n",
    "else:\n",
    "    show(html(\"Система не имеет решения\"))"
   ]
  },
  {
   "cell_type": "code",
   "execution_count": 4,
   "metadata": {},
   "outputs": [
    {
     "data": {
      "text/html": [
       "<h3>Решение методом Гаусса</h3>"
      ],
      "text/plain": [
       "<h3>Решение методом Гаусса</h3>"
      ]
     },
     "metadata": {},
     "output_type": "display_data"
    },
    {
     "data": {
      "text/html": [
       "<h4>Проверка совместности системы с помощью теоремы Кронекера-Капелли</h4>"
      ],
      "text/plain": [
       "<h4>Проверка совместности системы с помощью теоремы Кронекера-Капелли</h4>"
      ]
     },
     "metadata": {},
     "output_type": "display_data"
    },
    {
     "data": {
      "text/html": [
       "Система совместна"
      ],
      "text/plain": [
       "Система совместна"
      ]
     },
     "metadata": {},
     "output_type": "display_data"
    },
    {
     "data": {
      "text/html": [
       "Расширенная матрица:"
      ],
      "text/plain": [
       "Расширенная матрица:"
      ]
     },
     "metadata": {},
     "output_type": "display_data"
    },
    {
     "data": {
      "text/html": [
       "<html><script type=\"math/tex; mode=display\">\\newcommand{\\Bold}[1]{\\mathbf{#1}}\\left(\\begin{array}{rrrr}\n",
       "1 & 0 & 1 & 15 \\\\\n",
       "0 & 1 & 1 & 16 \\\\\n",
       "0 & 0 & 2 & 20\n",
       "\\end{array}\\right)</script></html>"
      ],
      "text/latex": [
       "\\begin{math}\n",
       "\\newcommand{\\Bold}[1]{\\mathbf{#1}}\\left(\\begin{array}{rrrr}\n",
       "1 & 0 & 1 & 15 \\\\\n",
       "0 & 1 & 1 & 16 \\\\\n",
       "0 & 0 & 2 & 20\n",
       "\\end{array}\\right)\n",
       "\\end{math}"
      ],
      "text/plain": [
       "[ 1  0  1 15]\n",
       "[ 0  1  1 16]\n",
       "[ 0  0  2 20]"
      ]
     },
     "metadata": {},
     "output_type": "display_data"
    }
   ],
   "source": [
    "show(html(\"<h3>Решение методом Гаусса</h3>\"))\n",
    "\n",
    "new_mat = block_matrix([matrix_a, matrix_b], nrows=1)\n",
    "\n",
    "show(html(\"<h4>Проверка совместности системы с помощью теоремы Кронекера-Капелли</h4>\"))\n",
    "\n",
    "if matrix_a.rank() == new_mat.rank():\n",
    "    show(html(\"Система совместна\"))\n",
    "    show(html(\"Расширенная матрица:\"))\n",
    "\n",
    "    new_mat = new_mat.echelon_form()\n",
    "    show(new_mat)\n",
    "else:\n",
    "    show(html(\"Система не имеет решения\"))\n"
   ]
  },
  {
   "cell_type": "code",
   "execution_count": 5,
   "metadata": {},
   "outputs": [
    {
     "data": {
      "text/html": [
       "<html><script type=\"math/tex; mode=display\">\\newcommand{\\Bold}[1]{\\mathbf{#1}}\\verb|x|\\phantom{\\verb!x!}\\verb|=| \\left(\\begin{array}{r}\n",
       "5 \\\\\n",
       "6 \\\\\n",
       "10\n",
       "\\end{array}\\right)</script></html>"
      ],
      "text/latex": [
       "\\begin{math}\n",
       "\\newcommand{\\Bold}[1]{\\mathbf{#1}}\\verb|x|\\phantom{\\verb!x!}\\verb|=| \\left(\\begin{array}{r}\n",
       "5 \\\\\n",
       "6 \\\\\n",
       "10\n",
       "\\end{array}\\right)\n",
       "\\end{math}"
      ],
      "text/plain": [
       "'x = ' [ 5]\n",
       "[ 6]\n",
       "[10]"
      ]
     },
     "metadata": {},
     "output_type": "display_data"
    }
   ],
   "source": [
    "line = 3\n",
    "column  = line + 1 \n",
    "\n",
    "x_3 = new_mat[line-1][column-1]/new_mat[line-1][column-2]\n",
    "x_2 = (new_mat[line-2][column-1] - x_3*new_mat[line-2][column-2])/new_mat[line-2][column-3]\n",
    "x_1 = (new_mat[line-3][column-1]- x_3*new_mat[line-3][column-2] - x_2*new_mat[line-3][column-3])/new_mat[line-3][column-4]\n",
    "\n",
    "ans = matrix([[x_1],[x_2],[x_3]])\n",
    "show(\"x = \",ans)"
   ]
  },
  {
   "cell_type": "code",
   "execution_count": 6,
   "metadata": {},
   "outputs": [
    {
     "data": {
      "text/html": [
       "<h3>Проверка</h3>"
      ],
      "text/plain": [
       "<h3>Проверка</h3>"
      ]
     },
     "metadata": {},
     "output_type": "display_data"
    },
    {
     "data": {
      "text/html": [
       "<html><script type=\"math/tex; mode=display\">\\newcommand{\\Bold}[1]{\\mathbf{#1}}\\verb|X|\\phantom{\\verb!x!}\\verb|=| \\left(\\begin{array}{r}\n",
       "5 \\\\\n",
       "6 \\\\\n",
       "10\n",
       "\\end{array}\\right)</script></html>"
      ],
      "text/latex": [
       "\\begin{math}\n",
       "\\newcommand{\\Bold}[1]{\\mathbf{#1}}\\verb|X|\\phantom{\\verb!x!}\\verb|=| \\left(\\begin{array}{r}\n",
       "5 \\\\\n",
       "6 \\\\\n",
       "10\n",
       "\\end{array}\\right)\n",
       "\\end{math}"
      ],
      "text/plain": [
       "'X = ' [ 5]\n",
       "[ 6]\n",
       "[10]"
      ]
     },
     "metadata": {},
     "output_type": "display_data"
    },
    {
     "data": {
      "text/html": [
       "Решения совпадают"
      ],
      "text/plain": [
       "Решения совпадают"
      ]
     },
     "metadata": {},
     "output_type": "display_data"
    }
   ],
   "source": [
    "show(html(\"<h3>Проверка</h3>\"))\n",
    "x = matrix_a.solve_right(matrix_b)\n",
    "show(\"X = \", x)\n",
    "if (matrix([[5],[6],[10]]) == x):\n",
    "    show(html(\"Решения совпадают\"))"
   ]
  }
 ],
 "metadata": {
  "kernelspec": {
   "display_name": "SageMath 9.2",
   "language": "sage",
   "name": "sagemath"
  },
  "language_info": {
   "codemirror_mode": {
    "name": "ipython",
    "version": 3
   },
   "file_extension": ".py",
   "mimetype": "text/x-python",
   "name": "python",
   "nbconvert_exporter": "python",
   "pygments_lexer": "ipython3",
   "version": "3.7.7"
  }
 },
 "nbformat": 4,
 "nbformat_minor": 4
}
