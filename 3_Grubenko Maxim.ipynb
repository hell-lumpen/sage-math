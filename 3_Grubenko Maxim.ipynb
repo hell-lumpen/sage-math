{
 "cells": [
  {
   "cell_type": "markdown",
   "metadata": {},
   "source": [
    "<h1>Лабораторная работа 3</h1>\n",
    "<h2>Матрицы — Матричные уравнения</h2>\n",
    "\n",
    "Уравнение дано в виде: AX = B, Y A = B и т.д.<br>\n",
    "Привести к виду AX = B и найти X (X = A−1 ∗ B).<br>\n",
    "\n",
    "<b>Грубенко Максим М8О-210Б-20<br>\n",
    "Вариант 8 </b>"
   ]
  },
  {
   "cell_type": "code",
   "execution_count": 1,
   "metadata": {},
   "outputs": [
    {
     "data": {
      "text/html": [
       "<html><script type=\"math/tex; mode=display\">\\newcommand{\\Bold}[1]{\\mathbf{#1}}\\verb|1/2|\\phantom{\\verb!x!}\\verb|*|\\phantom{\\verb!x!}\\verb|X|\\phantom{\\verb!x!}\\verb|*| \\left(\\begin{array}{rrr}\n",
       "-2 & 4 & -6 \\\\\n",
       "-1 & 0 & 2 \\\\\n",
       "4 & 4 & 2\n",
       "\\end{array}\\right) \\verb|^T|\\phantom{\\verb!x!}\\verb|-|\\phantom{\\verb!x!}\\verb|3E|\\phantom{\\verb!x!}\\verb|=|\\phantom{\\verb!x!}\\verb|1/4|\\phantom{\\verb!x!}\\verb|*| \\left(\\begin{array}{rrr}\n",
       "2 & 8 & -3 \\\\\n",
       "-2 & 2 & 4 \\\\\n",
       "1 & 0 & 2\n",
       "\\end{array}\\right) \\verb|^2|</script></html>"
      ],
      "text/latex": [
       "\\begin{math}\n",
       "\\newcommand{\\Bold}[1]{\\mathbf{#1}}\\verb|1/2|\\phantom{\\verb!x!}\\verb|*|\\phantom{\\verb!x!}\\verb|X|\\phantom{\\verb!x!}\\verb|*| \\left(\\begin{array}{rrr}\n",
       "-2 & 4 & -6 \\\\\n",
       "-1 & 0 & 2 \\\\\n",
       "4 & 4 & 2\n",
       "\\end{array}\\right) \\verb|^T|\\phantom{\\verb!x!}\\verb|-|\\phantom{\\verb!x!}\\verb|3E|\\phantom{\\verb!x!}\\verb|=|\\phantom{\\verb!x!}\\verb|1/4|\\phantom{\\verb!x!}\\verb|*| \\left(\\begin{array}{rrr}\n",
       "2 & 8 & -3 \\\\\n",
       "-2 & 2 & 4 \\\\\n",
       "1 & 0 & 2\n",
       "\\end{array}\\right) \\verb|^2|\n",
       "\\end{math}"
      ],
      "text/plain": [
       "'1/2 * X *' [-2  4 -6]\n",
       "[-1  0  2]\n",
       "[ 4  4  2] '^T - 3E = 1/4 * ' [ 2  8 -3]\n",
       "[-2  2  4]\n",
       "[ 1  0  2] '^2'"
      ]
     },
     "metadata": {},
     "output_type": "display_data"
    }
   ],
   "source": [
    "A = matrix(QQ, [[-2, 4, -6], [-1, 0, 2], [4, 4, 2]])\n",
    "B = matrix(QQ, [[2, 8, -3], [-2, 2, 4], [1, 0, 2]])\n",
    "E = matrix(QQ, [[1, 0, 0], [0, 1, 0], [0, 0, 1]])\n",
    "show(\"1/2 * X *\", A, \"^T - 3E = 1/4 * \", B, \"^2\")\n",
    "# не очень понял как сделать красивый вывод. используя внутри show html, матрицы выводятся коряво,\n",
    "# но с помощью <sup> тега можно красиво сделать степень.\n"
   ]
  },
  {
   "cell_type": "code",
   "execution_count": 2,
   "metadata": {
    "scrolled": true
   },
   "outputs": [
    {
     "data": {
      "text/html": [
       "<html><script type=\"math/tex; mode=display\">\\newcommand{\\Bold}[1]{\\mathbf{#1}}\\verb|Решение|\\phantom{\\verb!x!}\\verb|матричного|\\phantom{\\verb!x!}\\verb|уравнения|\\phantom{\\verb!x!}\\verb|X|\\phantom{\\verb!x!}\\verb|=| \\left(\\begin{array}{rrr}\n",
       "-\\frac{21}{4} & \\frac{81}{16} & \\frac{43}{8} \\\\\n",
       "\\frac{13}{10} & \\frac{9}{8} & \\frac{13}{20} \\\\\n",
       "-\\frac{23}{20} & \\frac{33}{16} & \\frac{57}{40}\n",
       "\\end{array}\\right)</script></html>"
      ],
      "text/latex": [
       "\\begin{math}\n",
       "\\newcommand{\\Bold}[1]{\\mathbf{#1}}\\verb|Решение|\\phantom{\\verb!x!}\\verb|матричного|\\phantom{\\verb!x!}\\verb|уравнения|\\phantom{\\verb!x!}\\verb|X|\\phantom{\\verb!x!}\\verb|=| \\left(\\begin{array}{rrr}\n",
       "-\\frac{21}{4} & \\frac{81}{16} & \\frac{43}{8} \\\\\n",
       "\\frac{13}{10} & \\frac{9}{8} & \\frac{13}{20} \\\\\n",
       "-\\frac{23}{20} & \\frac{33}{16} & \\frac{57}{40}\n",
       "\\end{array}\\right)\n",
       "\\end{math}"
      ],
      "text/plain": [
       "'Решение матричного уравнения X = ' [ -21/4  81/16   43/8]\n",
       "[ 13/10    9/8  13/20]\n",
       "[-23/20  33/16  57/40]"
      ]
     },
     "metadata": {},
     "output_type": "display_data"
    }
   ],
   "source": [
    "A = A.transpose() / 2\n",
    "B = B**2 / 4 + 3*E\n",
    "\n",
    "X = B * A.inverse() \n",
    "\n",
    "show(\"Решение матричного уравнения X = \", X)"
   ]
  },
  {
   "cell_type": "markdown",
   "metadata": {},
   "source": [
    "<h2>Мини-проверка</h2>"
   ]
  },
  {
   "cell_type": "code",
   "execution_count": 3,
   "metadata": {},
   "outputs": [
    {
     "data": {
      "text/html": [
       "Все ок"
      ],
      "text/plain": [
       "Все ок"
      ]
     },
     "metadata": {},
     "output_type": "display_data"
    },
    {
     "data": {
      "text/html": [
       "<html><script type=\"math/tex; mode=display\">\\newcommand{\\Bold}[1]{\\mathbf{#1}}\\left(\\begin{array}{rrr}\n",
       "-\\frac{21}{4} & \\frac{81}{16} & \\frac{43}{8} \\\\\n",
       "\\frac{13}{10} & \\frac{9}{8} & \\frac{13}{20} \\\\\n",
       "-\\frac{23}{20} & \\frac{33}{16} & \\frac{57}{40}\n",
       "\\end{array}\\right)</script></html>"
      ],
      "text/latex": [
       "\\begin{math}\n",
       "\\newcommand{\\Bold}[1]{\\mathbf{#1}}\\left(\\begin{array}{rrr}\n",
       "-\\frac{21}{4} & \\frac{81}{16} & \\frac{43}{8} \\\\\n",
       "\\frac{13}{10} & \\frac{9}{8} & \\frac{13}{20} \\\\\n",
       "-\\frac{23}{20} & \\frac{33}{16} & \\frac{57}{40}\n",
       "\\end{array}\\right)\n",
       "\\end{math}"
      ],
      "text/plain": [
       "[ -21/4  81/16   43/8]\n",
       "[ 13/10    9/8  13/20]\n",
       "[-23/20  33/16  57/40]"
      ]
     },
     "metadata": {},
     "output_type": "display_data"
    }
   ],
   "source": [
    "A = matrix(QQ, [[-2, 4, -6], [-1, 0, 2], [4, 4, 2]])\n",
    "B = matrix(QQ, [[2, 8, -3], [-2, 2, 4], [1, 0, 2]])\n",
    "E = matrix(QQ, [[1, 0, 0], [0, 1, 0], [0, 0, 1]])\n",
    "\n",
    "X_sage = (A.transpose()).solve_left(1/2 * B ** 2 + 6*E)\n",
    "if (X_sage == X):\n",
    "    show(html(\"Все ок\"))\n",
    "    show(X_sage)\n",
    "else:\n",
    "    show(html(\"Есть ошибка\"))\n",
    "    show(X_sage)\n"
   ]
  }
 ],
 "metadata": {
  "kernelspec": {
   "display_name": "SageMath 9.2",
   "language": "sage",
   "name": "sagemath"
  },
  "language_info": {
   "codemirror_mode": {
    "name": "ipython",
    "version": 3
   },
   "file_extension": ".py",
   "mimetype": "text/x-python",
   "name": "python",
   "nbconvert_exporter": "python",
   "pygments_lexer": "ipython3",
   "version": "3.7.7"
  }
 },
 "nbformat": 4,
 "nbformat_minor": 4
}
