{
 "cells": [
  {
   "cell_type": "markdown",
   "metadata": {},
   "source": [
    "<h1>Лабораторная работа 4</h1>\n",
    "<h2>Алгебраические уравнения 3й степени</h2>\n",
    "<br>\n",
    "y = 7x<sup>3</sup> + 3x<sup>2</sup> - 4x - 7;\n",
    "\n",
    "По формуле Кардано решить заданное уравнение 3й степени.\n",
    "Нарисовать график функции, отметить на нем найденные корни.\n",
    "Комплексные корни представить в алгебраической, тригонометрической и\n",
    "экспоненциальной формах.\n",
    "<br>\n",
    "<b>Грубенко Максим М8О-210Б-20<br>\n",
    "Вариант 8<br> <b>"
   ]
  },
  {
   "cell_type": "code",
   "execution_count": 1,
   "metadata": {},
   "outputs": [],
   "source": [
    "x, a, b, c, d = var(\"x\", \"a\", \"b\", \"c\", \"d\")\n",
    "\n",
    "y = a*x**3 + b*x**2 + c*x + d;\n",
    "\n",
    "a = 7\n",
    "b = 3\n",
    "c = -4\n",
    "d = -7"
   ]
  },
  {
   "cell_type": "markdown",
   "metadata": {},
   "source": [
    "Найдем коэффициенты p, q для формулы Кардано и величину Q "
   ]
  },
  {
   "cell_type": "code",
   "execution_count": 2,
   "metadata": {},
   "outputs": [
    {
     "data": {
      "text/html": [
       "<html><script type=\"math/tex; mode=display\">\\newcommand{\\Bold}[1]{\\mathbf{#1}}\\verb|p|\\phantom{\\verb!x!}\\verb|=| -\\frac{31}{49}</script></html>"
      ],
      "text/latex": [
       "\\begin{math}\n",
       "\\newcommand{\\Bold}[1]{\\mathbf{#1}}\\verb|p|\\phantom{\\verb!x!}\\verb|=| -\\frac{31}{49}\n",
       "\\end{math}"
      ],
      "text/plain": [
       "'p = ' -31/49"
      ]
     },
     "metadata": {},
     "output_type": "display_data"
    },
    {
     "data": {
      "text/html": [
       "<html><script type=\"math/tex; mode=display\">\\newcommand{\\Bold}[1]{\\mathbf{#1}}\\verb|q|\\phantom{\\verb!x!}\\verb|=| -\\frac{313}{343}</script></html>"
      ],
      "text/latex": [
       "\\begin{math}\n",
       "\\newcommand{\\Bold}[1]{\\mathbf{#1}}\\verb|q|\\phantom{\\verb!x!}\\verb|=| -\\frac{313}{343}\n",
       "\\end{math}"
      ],
      "text/plain": [
       "'q = ' -313/343"
      ]
     },
     "metadata": {},
     "output_type": "display_data"
    },
    {
     "data": {
      "text/html": [
       "<html><script type=\"math/tex; mode=display\">\\newcommand{\\Bold}[1]{\\mathbf{#1}}\\verb|Q|\\phantom{\\verb!x!}\\verb|=| \\frac{51551}{259308}</script></html>"
      ],
      "text/latex": [
       "\\begin{math}\n",
       "\\newcommand{\\Bold}[1]{\\mathbf{#1}}\\verb|Q|\\phantom{\\verb!x!}\\verb|=| \\frac{51551}{259308}\n",
       "\\end{math}"
      ],
      "text/plain": [
       "'Q = ' 51551/259308"
      ]
     },
     "metadata": {},
     "output_type": "display_data"
    }
   ],
   "source": [
    "var(\"p\", \"q\")\n",
    "p = (3*a*c - b**2)/(3*a**2)\n",
    "q = ((2*b**3)/(27*a**3)) - ((b*c)/(3*a**2))+ (d/a)\n",
    "show(\"p = \",p)\n",
    "show(\"q = \",q)\n",
    "Q = ((p/3)**3) + ((q/2)**2)\n",
    "show (\"Q = \", Q)"
   ]
  },
  {
   "cell_type": "code",
   "execution_count": 3,
   "metadata": {},
   "outputs": [],
   "source": [
    "alpha = ((-q/2) + sqrt(Q))**(1/3)\n",
    "beta = ((-q/2) - sqrt(Q))**(1/3)\n",
    "\n",
    "epsilon = -1/2 + (sqrt(-3))/2"
   ]
  },
  {
   "cell_type": "code",
   "execution_count": 4,
   "metadata": {},
   "outputs": [],
   "source": [
    "z = [alpha + beta\n",
    "     , alpha*epsilon + beta*epsilon**2\n",
    "     , beta*epsilon + alpha*epsilon**2\n",
    "    ]"
   ]
  },
  {
   "cell_type": "code",
   "execution_count": 5,
   "metadata": {},
   "outputs": [],
   "source": [
    "def trigonometric_representation(z):\n",
    "    phi = atan2(z.imag(), z.real()).n(digits=4)\n",
    "    z_abs = z.abs().n(digits=4)\n",
    "    z_trig = z_abs*(cos(phi, hold=True) + I*sin(phi, hold=True))\n",
    "    return z_trig\n",
    "    \n",
    "def exponential_representation(z):\n",
    "    phi = atan2(z.imag(), z.real()).n(digits=4)\n",
    "    z_abs = z.abs().n(digits=4)\n",
    "    z_exp = f\"{z_abs}\" + r\"\\cdot e^{\" + f\"{phi}\" + r\"\\cdot i}\"\n",
    "    return z_exp"
   ]
  },
  {
   "cell_type": "code",
   "execution_count": 6,
   "metadata": {},
   "outputs": [
    {
     "data": {
      "text/html": [
       "Алгебраическое представление x<sub><script type=\"math/tex\">0</script></sub> = <script type=\"math/tex\">1.042</script>"
      ],
      "text/plain": [
       "Алгебраическое представление x<sub><script type=\"math/tex\">0</script></sub> = <script type=\"math/tex\">1.042</script>"
      ]
     },
     "metadata": {},
     "output_type": "display_data"
    },
    {
     "data": {
      "text/html": [
       "Тригонометрическое представление x<sub><script type=\"math/tex\">0</script></sub> = <script type=\"math/tex\">1.042*cos(0.0000) + 1.042*I*sin(0.0000)</script>"
      ],
      "text/plain": [
       "Тригонометрическое представление x<sub><script type=\"math/tex\">0</script></sub> = <script type=\"math/tex\">1.042*cos(0.0000) + 1.042*I*sin(0.0000)</script>"
      ]
     },
     "metadata": {},
     "output_type": "display_data"
    },
    {
     "data": {
      "text/html": [
       "Экспоненциальное представление x<sub><script type=\"math/tex\">0</script></sub> = <script type=\"math/tex\">1.042\\cdot e^{0.0000\\cdot i}</script>"
      ],
      "text/plain": [
       "Экспоненциальное представление x<sub><script type=\"math/tex\">0</script></sub> = <script type=\"math/tex\">1.042\\cdot e^{0.0000\\cdot i}</script>"
      ]
     },
     "metadata": {},
     "output_type": "display_data"
    },
    {
     "data": {
      "text/html": [
       "<html><script type=\"math/tex; mode=display\">\\newcommand{\\Bold}[1]{\\mathbf{#1}}</script></html>"
      ],
      "text/latex": [
       "\\begin{math}\n",
       "\\newcommand{\\Bold}[1]{\\mathbf{#1}}\n",
       "\\end{math}"
      ],
      "text/plain": [
       "''"
      ]
     },
     "metadata": {},
     "output_type": "display_data"
    },
    {
     "data": {
      "text/html": [
       "Алгебраическое представление x<sub><script type=\"math/tex\">1</script></sub> = <script type=\"math/tex\">-0.7351 + 0.6478*I</script>"
      ],
      "text/plain": [
       "Алгебраическое представление x<sub><script type=\"math/tex\">1</script></sub> = <script type=\"math/tex\">-0.7351 + 0.6478*I</script>"
      ]
     },
     "metadata": {},
     "output_type": "display_data"
    },
    {
     "data": {
      "text/html": [
       "Тригонометрическое представление x<sub><script type=\"math/tex\">1</script></sub> = <script type=\"math/tex\">0.9798*cos(2.419) + 0.9798*I*sin(2.419)</script>"
      ],
      "text/plain": [
       "Тригонометрическое представление x<sub><script type=\"math/tex\">1</script></sub> = <script type=\"math/tex\">0.9798*cos(2.419) + 0.9798*I*sin(2.419)</script>"
      ]
     },
     "metadata": {},
     "output_type": "display_data"
    },
    {
     "data": {
      "text/html": [
       "Экспоненциальное представление x<sub><script type=\"math/tex\">1</script></sub> = <script type=\"math/tex\">0.9798\\cdot e^{2.419\\cdot i}</script>"
      ],
      "text/plain": [
       "Экспоненциальное представление x<sub><script type=\"math/tex\">1</script></sub> = <script type=\"math/tex\">0.9798\\cdot e^{2.419\\cdot i}</script>"
      ]
     },
     "metadata": {},
     "output_type": "display_data"
    },
    {
     "data": {
      "text/html": [
       "<html><script type=\"math/tex; mode=display\">\\newcommand{\\Bold}[1]{\\mathbf{#1}}</script></html>"
      ],
      "text/latex": [
       "\\begin{math}\n",
       "\\newcommand{\\Bold}[1]{\\mathbf{#1}}\n",
       "\\end{math}"
      ],
      "text/plain": [
       "''"
      ]
     },
     "metadata": {},
     "output_type": "display_data"
    },
    {
     "data": {
      "text/html": [
       "Алгебраическое представление x<sub><script type=\"math/tex\">2</script></sub> = <script type=\"math/tex\">-0.7351 - 0.6478*I</script>"
      ],
      "text/plain": [
       "Алгебраическое представление x<sub><script type=\"math/tex\">2</script></sub> = <script type=\"math/tex\">-0.7351 - 0.6478*I</script>"
      ]
     },
     "metadata": {},
     "output_type": "display_data"
    },
    {
     "data": {
      "text/html": [
       "Тригонометрическое представление x<sub><script type=\"math/tex\">2</script></sub> = <script type=\"math/tex\">0.9798*cos(-2.419) + 0.9798*I*sin(-2.419)</script>"
      ],
      "text/plain": [
       "Тригонометрическое представление x<sub><script type=\"math/tex\">2</script></sub> = <script type=\"math/tex\">0.9798*cos(-2.419) + 0.9798*I*sin(-2.419)</script>"
      ]
     },
     "metadata": {},
     "output_type": "display_data"
    },
    {
     "data": {
      "text/html": [
       "Экспоненциальное представление x<sub><script type=\"math/tex\">2</script></sub> = <script type=\"math/tex\">0.9798\\cdot e^{-2.419\\cdot i}</script>"
      ],
      "text/plain": [
       "Экспоненциальное представление x<sub><script type=\"math/tex\">2</script></sub> = <script type=\"math/tex\">0.9798\\cdot e^{-2.419\\cdot i}</script>"
      ]
     },
     "metadata": {},
     "output_type": "display_data"
    },
    {
     "data": {
      "text/html": [
       "<html><script type=\"math/tex; mode=display\">\\newcommand{\\Bold}[1]{\\mathbf{#1}}</script></html>"
      ],
      "text/latex": [
       "\\begin{math}\n",
       "\\newcommand{\\Bold}[1]{\\mathbf{#1}}\n",
       "\\end{math}"
      ],
      "text/plain": [
       "''"
      ]
     },
     "metadata": {},
     "output_type": "display_data"
    }
   ],
   "source": [
    "def to_x(_z, _a):\n",
    "    return _z - _a/3\n",
    "\n",
    "\n",
    "for i, z_i in enumerate(z):\n",
    "    x_i = to_x(_z = z_i, _a = b/a)\n",
    "    show(html(f\"Алгебраическое представление x<sub>${i}$</sub> = ${x_i.n(digits=4)}$\"))\n",
    "    show(html(f\"Тригонометрическое представление x<sub>${i}$</sub> = ${trigonometric_representation(x_i)}$\"))\n",
    "    show(html(f\"Экспоненциальное представление x<sub>${i}$</sub> = ${exponential_representation(x_i)}$\"))\n",
    "    show(\"\")\n"
   ]
  },
  {
   "cell_type": "code",
   "execution_count": 7,
   "metadata": {},
   "outputs": [
    {
     "data": {
      "image/png": "[encoded data removed]",
      "text/plain": [
       "Graphics object consisting of 2 graphics primitives"
      ]
     },
     "metadata": {},
     "output_type": "display_data"
    }
   ],
   "source": [
    "f(x) = a*x**3 + b*x**2 + c*x + d\n",
    "grapfic = plot(f(x), -3, 3)\n",
    "grapfic += point((find_root(f, 1, 1.5), 0), size = 50, color = 'red')\n",
    "show(grapfic)"
   ]
  }
 ],
 "metadata": {
  "kernelspec": {
   "display_name": "SageMath 9.2",
   "language": "sage",
   "name": "sagemath"
  },
  "language_info": {
   "codemirror_mode": {
    "name": "ipython",
    "version": 3
   },
   "file_extension": ".py",
   "mimetype": "text/x-python",
   "name": "python",
   "nbconvert_exporter": "python",
   "pygments_lexer": "ipython3",
   "version": "3.7.7"
  }
 },
 "nbformat": 4,
 "nbformat_minor": 4
}
